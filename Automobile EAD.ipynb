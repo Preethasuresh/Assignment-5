{
 "cells": [
  {
   "cell_type": "code",
   "execution_count": 88,
   "id": "f1216341",
   "metadata": {},
   "outputs": [],
   "source": [
    "import pandas as pd\n",
    "auto=pd.read_csv(\"https://archive.ics.uci.edu/ml/machine-learning-databases/autos/imports-85.data\",header=None,na_values=\"?\")               "
   ]
  },
  {
   "cell_type": "code",
   "execution_count": 89,
   "id": "8f0a3674",
   "metadata": {},
   "outputs": [
    {
     "data": {
      "text/html": [
       "<div>\n",
       "<style scoped>\n",
       "    .dataframe tbody tr th:only-of-type {\n",
       "        vertical-align: middle;\n",
       "    }\n",
       "\n",
       "    .dataframe tbody tr th {\n",
       "        vertical-align: top;\n",
       "    }\n",
       "\n",
       "    .dataframe thead th {\n",
       "        text-align: right;\n",
       "    }\n",
       "</style>\n",
       "<table border=\"1\" class=\"dataframe\">\n",
       "  <thead>\n",
       "    <tr style=\"text-align: right;\">\n",
       "      <th></th>\n",
       "      <th>0</th>\n",
       "      <th>1</th>\n",
       "      <th>2</th>\n",
       "      <th>3</th>\n",
       "      <th>4</th>\n",
       "      <th>5</th>\n",
       "      <th>6</th>\n",
       "      <th>7</th>\n",
       "      <th>8</th>\n",
       "      <th>9</th>\n",
       "      <th>...</th>\n",
       "      <th>16</th>\n",
       "      <th>17</th>\n",
       "      <th>18</th>\n",
       "      <th>19</th>\n",
       "      <th>20</th>\n",
       "      <th>21</th>\n",
       "      <th>22</th>\n",
       "      <th>23</th>\n",
       "      <th>24</th>\n",
       "      <th>25</th>\n",
       "    </tr>\n",
       "  </thead>\n",
       "  <tbody>\n",
       "    <tr>\n",
       "      <th>0</th>\n",
       "      <td>3</td>\n",
       "      <td>NaN</td>\n",
       "      <td>alfa-romero</td>\n",
       "      <td>gas</td>\n",
       "      <td>std</td>\n",
       "      <td>two</td>\n",
       "      <td>convertible</td>\n",
       "      <td>rwd</td>\n",
       "      <td>front</td>\n",
       "      <td>88.6</td>\n",
       "      <td>...</td>\n",
       "      <td>130</td>\n",
       "      <td>mpfi</td>\n",
       "      <td>3.47</td>\n",
       "      <td>2.68</td>\n",
       "      <td>9.0</td>\n",
       "      <td>111.0</td>\n",
       "      <td>5000.0</td>\n",
       "      <td>21</td>\n",
       "      <td>27</td>\n",
       "      <td>13495.0</td>\n",
       "    </tr>\n",
       "    <tr>\n",
       "      <th>1</th>\n",
       "      <td>3</td>\n",
       "      <td>NaN</td>\n",
       "      <td>alfa-romero</td>\n",
       "      <td>gas</td>\n",
       "      <td>std</td>\n",
       "      <td>two</td>\n",
       "      <td>convertible</td>\n",
       "      <td>rwd</td>\n",
       "      <td>front</td>\n",
       "      <td>88.6</td>\n",
       "      <td>...</td>\n",
       "      <td>130</td>\n",
       "      <td>mpfi</td>\n",
       "      <td>3.47</td>\n",
       "      <td>2.68</td>\n",
       "      <td>9.0</td>\n",
       "      <td>111.0</td>\n",
       "      <td>5000.0</td>\n",
       "      <td>21</td>\n",
       "      <td>27</td>\n",
       "      <td>16500.0</td>\n",
       "    </tr>\n",
       "    <tr>\n",
       "      <th>2</th>\n",
       "      <td>1</td>\n",
       "      <td>NaN</td>\n",
       "      <td>alfa-romero</td>\n",
       "      <td>gas</td>\n",
       "      <td>std</td>\n",
       "      <td>two</td>\n",
       "      <td>hatchback</td>\n",
       "      <td>rwd</td>\n",
       "      <td>front</td>\n",
       "      <td>94.5</td>\n",
       "      <td>...</td>\n",
       "      <td>152</td>\n",
       "      <td>mpfi</td>\n",
       "      <td>2.68</td>\n",
       "      <td>3.47</td>\n",
       "      <td>9.0</td>\n",
       "      <td>154.0</td>\n",
       "      <td>5000.0</td>\n",
       "      <td>19</td>\n",
       "      <td>26</td>\n",
       "      <td>16500.0</td>\n",
       "    </tr>\n",
       "    <tr>\n",
       "      <th>3</th>\n",
       "      <td>2</td>\n",
       "      <td>164.0</td>\n",
       "      <td>audi</td>\n",
       "      <td>gas</td>\n",
       "      <td>std</td>\n",
       "      <td>four</td>\n",
       "      <td>sedan</td>\n",
       "      <td>fwd</td>\n",
       "      <td>front</td>\n",
       "      <td>99.8</td>\n",
       "      <td>...</td>\n",
       "      <td>109</td>\n",
       "      <td>mpfi</td>\n",
       "      <td>3.19</td>\n",
       "      <td>3.40</td>\n",
       "      <td>10.0</td>\n",
       "      <td>102.0</td>\n",
       "      <td>5500.0</td>\n",
       "      <td>24</td>\n",
       "      <td>30</td>\n",
       "      <td>13950.0</td>\n",
       "    </tr>\n",
       "    <tr>\n",
       "      <th>4</th>\n",
       "      <td>2</td>\n",
       "      <td>164.0</td>\n",
       "      <td>audi</td>\n",
       "      <td>gas</td>\n",
       "      <td>std</td>\n",
       "      <td>four</td>\n",
       "      <td>sedan</td>\n",
       "      <td>4wd</td>\n",
       "      <td>front</td>\n",
       "      <td>99.4</td>\n",
       "      <td>...</td>\n",
       "      <td>136</td>\n",
       "      <td>mpfi</td>\n",
       "      <td>3.19</td>\n",
       "      <td>3.40</td>\n",
       "      <td>8.0</td>\n",
       "      <td>115.0</td>\n",
       "      <td>5500.0</td>\n",
       "      <td>18</td>\n",
       "      <td>22</td>\n",
       "      <td>17450.0</td>\n",
       "    </tr>\n",
       "  </tbody>\n",
       "</table>\n",
       "<p>5 rows × 26 columns</p>\n",
       "</div>"
      ],
      "text/plain": [
       "   0      1            2    3    4     5            6    7      8     9   ...  \\\n",
       "0   3    NaN  alfa-romero  gas  std   two  convertible  rwd  front  88.6  ...   \n",
       "1   3    NaN  alfa-romero  gas  std   two  convertible  rwd  front  88.6  ...   \n",
       "2   1    NaN  alfa-romero  gas  std   two    hatchback  rwd  front  94.5  ...   \n",
       "3   2  164.0         audi  gas  std  four        sedan  fwd  front  99.8  ...   \n",
       "4   2  164.0         audi  gas  std  four        sedan  4wd  front  99.4  ...   \n",
       "\n",
       "    16    17    18    19    20     21      22  23  24       25  \n",
       "0  130  mpfi  3.47  2.68   9.0  111.0  5000.0  21  27  13495.0  \n",
       "1  130  mpfi  3.47  2.68   9.0  111.0  5000.0  21  27  16500.0  \n",
       "2  152  mpfi  2.68  3.47   9.0  154.0  5000.0  19  26  16500.0  \n",
       "3  109  mpfi  3.19  3.40  10.0  102.0  5500.0  24  30  13950.0  \n",
       "4  136  mpfi  3.19  3.40   8.0  115.0  5500.0  18  22  17450.0  \n",
       "\n",
       "[5 rows x 26 columns]"
      ]
     },
     "execution_count": 89,
     "metadata": {},
     "output_type": "execute_result"
    }
   ],
   "source": [
    "auto.head()"
   ]
  },
  {
   "cell_type": "code",
   "execution_count": 90,
   "id": "b2e61065",
   "metadata": {},
   "outputs": [
    {
     "data": {
      "text/plain": [
       "(205, 26)"
      ]
     },
     "execution_count": 90,
     "metadata": {},
     "output_type": "execute_result"
    }
   ],
   "source": [
    "auto.shape"
   ]
  },
  {
   "cell_type": "code",
   "execution_count": 91,
   "id": "b5839518",
   "metadata": {},
   "outputs": [
    {
     "data": {
      "text/html": [
       "<div>\n",
       "<style scoped>\n",
       "    .dataframe tbody tr th:only-of-type {\n",
       "        vertical-align: middle;\n",
       "    }\n",
       "\n",
       "    .dataframe tbody tr th {\n",
       "        vertical-align: top;\n",
       "    }\n",
       "\n",
       "    .dataframe thead th {\n",
       "        text-align: right;\n",
       "    }\n",
       "</style>\n",
       "<table border=\"1\" class=\"dataframe\">\n",
       "  <thead>\n",
       "    <tr style=\"text-align: right;\">\n",
       "      <th></th>\n",
       "      <th>0</th>\n",
       "      <th>1</th>\n",
       "      <th>9</th>\n",
       "      <th>10</th>\n",
       "      <th>11</th>\n",
       "      <th>12</th>\n",
       "      <th>13</th>\n",
       "      <th>16</th>\n",
       "      <th>18</th>\n",
       "      <th>19</th>\n",
       "      <th>20</th>\n",
       "      <th>21</th>\n",
       "      <th>22</th>\n",
       "      <th>23</th>\n",
       "      <th>24</th>\n",
       "      <th>25</th>\n",
       "    </tr>\n",
       "  </thead>\n",
       "  <tbody>\n",
       "    <tr>\n",
       "      <th>count</th>\n",
       "      <td>205.000000</td>\n",
       "      <td>164.000000</td>\n",
       "      <td>205.000000</td>\n",
       "      <td>205.000000</td>\n",
       "      <td>205.000000</td>\n",
       "      <td>205.000000</td>\n",
       "      <td>205.000000</td>\n",
       "      <td>205.000000</td>\n",
       "      <td>201.000000</td>\n",
       "      <td>201.000000</td>\n",
       "      <td>205.000000</td>\n",
       "      <td>203.000000</td>\n",
       "      <td>203.000000</td>\n",
       "      <td>205.000000</td>\n",
       "      <td>205.000000</td>\n",
       "      <td>201.000000</td>\n",
       "    </tr>\n",
       "    <tr>\n",
       "      <th>mean</th>\n",
       "      <td>0.834146</td>\n",
       "      <td>122.000000</td>\n",
       "      <td>98.756585</td>\n",
       "      <td>174.049268</td>\n",
       "      <td>65.907805</td>\n",
       "      <td>53.724878</td>\n",
       "      <td>2555.565854</td>\n",
       "      <td>126.907317</td>\n",
       "      <td>3.329751</td>\n",
       "      <td>3.255423</td>\n",
       "      <td>10.142537</td>\n",
       "      <td>104.256158</td>\n",
       "      <td>5125.369458</td>\n",
       "      <td>25.219512</td>\n",
       "      <td>30.751220</td>\n",
       "      <td>13207.129353</td>\n",
       "    </tr>\n",
       "    <tr>\n",
       "      <th>std</th>\n",
       "      <td>1.245307</td>\n",
       "      <td>35.442168</td>\n",
       "      <td>6.021776</td>\n",
       "      <td>12.337289</td>\n",
       "      <td>2.145204</td>\n",
       "      <td>2.443522</td>\n",
       "      <td>520.680204</td>\n",
       "      <td>41.642693</td>\n",
       "      <td>0.273539</td>\n",
       "      <td>0.316717</td>\n",
       "      <td>3.972040</td>\n",
       "      <td>39.714369</td>\n",
       "      <td>479.334560</td>\n",
       "      <td>6.542142</td>\n",
       "      <td>6.886443</td>\n",
       "      <td>7947.066342</td>\n",
       "    </tr>\n",
       "    <tr>\n",
       "      <th>min</th>\n",
       "      <td>-2.000000</td>\n",
       "      <td>65.000000</td>\n",
       "      <td>86.600000</td>\n",
       "      <td>141.100000</td>\n",
       "      <td>60.300000</td>\n",
       "      <td>47.800000</td>\n",
       "      <td>1488.000000</td>\n",
       "      <td>61.000000</td>\n",
       "      <td>2.540000</td>\n",
       "      <td>2.070000</td>\n",
       "      <td>7.000000</td>\n",
       "      <td>48.000000</td>\n",
       "      <td>4150.000000</td>\n",
       "      <td>13.000000</td>\n",
       "      <td>16.000000</td>\n",
       "      <td>5118.000000</td>\n",
       "    </tr>\n",
       "    <tr>\n",
       "      <th>25%</th>\n",
       "      <td>0.000000</td>\n",
       "      <td>94.000000</td>\n",
       "      <td>94.500000</td>\n",
       "      <td>166.300000</td>\n",
       "      <td>64.100000</td>\n",
       "      <td>52.000000</td>\n",
       "      <td>2145.000000</td>\n",
       "      <td>97.000000</td>\n",
       "      <td>3.150000</td>\n",
       "      <td>3.110000</td>\n",
       "      <td>8.600000</td>\n",
       "      <td>70.000000</td>\n",
       "      <td>4800.000000</td>\n",
       "      <td>19.000000</td>\n",
       "      <td>25.000000</td>\n",
       "      <td>7775.000000</td>\n",
       "    </tr>\n",
       "    <tr>\n",
       "      <th>50%</th>\n",
       "      <td>1.000000</td>\n",
       "      <td>115.000000</td>\n",
       "      <td>97.000000</td>\n",
       "      <td>173.200000</td>\n",
       "      <td>65.500000</td>\n",
       "      <td>54.100000</td>\n",
       "      <td>2414.000000</td>\n",
       "      <td>120.000000</td>\n",
       "      <td>3.310000</td>\n",
       "      <td>3.290000</td>\n",
       "      <td>9.000000</td>\n",
       "      <td>95.000000</td>\n",
       "      <td>5200.000000</td>\n",
       "      <td>24.000000</td>\n",
       "      <td>30.000000</td>\n",
       "      <td>10295.000000</td>\n",
       "    </tr>\n",
       "    <tr>\n",
       "      <th>75%</th>\n",
       "      <td>2.000000</td>\n",
       "      <td>150.000000</td>\n",
       "      <td>102.400000</td>\n",
       "      <td>183.100000</td>\n",
       "      <td>66.900000</td>\n",
       "      <td>55.500000</td>\n",
       "      <td>2935.000000</td>\n",
       "      <td>141.000000</td>\n",
       "      <td>3.590000</td>\n",
       "      <td>3.410000</td>\n",
       "      <td>9.400000</td>\n",
       "      <td>116.000000</td>\n",
       "      <td>5500.000000</td>\n",
       "      <td>30.000000</td>\n",
       "      <td>34.000000</td>\n",
       "      <td>16500.000000</td>\n",
       "    </tr>\n",
       "    <tr>\n",
       "      <th>max</th>\n",
       "      <td>3.000000</td>\n",
       "      <td>256.000000</td>\n",
       "      <td>120.900000</td>\n",
       "      <td>208.100000</td>\n",
       "      <td>72.300000</td>\n",
       "      <td>59.800000</td>\n",
       "      <td>4066.000000</td>\n",
       "      <td>326.000000</td>\n",
       "      <td>3.940000</td>\n",
       "      <td>4.170000</td>\n",
       "      <td>23.000000</td>\n",
       "      <td>288.000000</td>\n",
       "      <td>6600.000000</td>\n",
       "      <td>49.000000</td>\n",
       "      <td>54.000000</td>\n",
       "      <td>45400.000000</td>\n",
       "    </tr>\n",
       "  </tbody>\n",
       "</table>\n",
       "</div>"
      ],
      "text/plain": [
       "               0           1           9           10          11          12  \\\n",
       "count  205.000000  164.000000  205.000000  205.000000  205.000000  205.000000   \n",
       "mean     0.834146  122.000000   98.756585  174.049268   65.907805   53.724878   \n",
       "std      1.245307   35.442168    6.021776   12.337289    2.145204    2.443522   \n",
       "min     -2.000000   65.000000   86.600000  141.100000   60.300000   47.800000   \n",
       "25%      0.000000   94.000000   94.500000  166.300000   64.100000   52.000000   \n",
       "50%      1.000000  115.000000   97.000000  173.200000   65.500000   54.100000   \n",
       "75%      2.000000  150.000000  102.400000  183.100000   66.900000   55.500000   \n",
       "max      3.000000  256.000000  120.900000  208.100000   72.300000   59.800000   \n",
       "\n",
       "                13          16          18          19          20  \\\n",
       "count   205.000000  205.000000  201.000000  201.000000  205.000000   \n",
       "mean   2555.565854  126.907317    3.329751    3.255423   10.142537   \n",
       "std     520.680204   41.642693    0.273539    0.316717    3.972040   \n",
       "min    1488.000000   61.000000    2.540000    2.070000    7.000000   \n",
       "25%    2145.000000   97.000000    3.150000    3.110000    8.600000   \n",
       "50%    2414.000000  120.000000    3.310000    3.290000    9.000000   \n",
       "75%    2935.000000  141.000000    3.590000    3.410000    9.400000   \n",
       "max    4066.000000  326.000000    3.940000    4.170000   23.000000   \n",
       "\n",
       "               21           22          23          24            25  \n",
       "count  203.000000   203.000000  205.000000  205.000000    201.000000  \n",
       "mean   104.256158  5125.369458   25.219512   30.751220  13207.129353  \n",
       "std     39.714369   479.334560    6.542142    6.886443   7947.066342  \n",
       "min     48.000000  4150.000000   13.000000   16.000000   5118.000000  \n",
       "25%     70.000000  4800.000000   19.000000   25.000000   7775.000000  \n",
       "50%     95.000000  5200.000000   24.000000   30.000000  10295.000000  \n",
       "75%    116.000000  5500.000000   30.000000   34.000000  16500.000000  \n",
       "max    288.000000  6600.000000   49.000000   54.000000  45400.000000  "
      ]
     },
     "execution_count": 91,
     "metadata": {},
     "output_type": "execute_result"
    }
   ],
   "source": [
    "auto.describe()"
   ]
  },
  {
   "cell_type": "code",
   "execution_count": 92,
   "id": "fa9e1321",
   "metadata": {},
   "outputs": [],
   "source": [
    "auto.columns=[\"symboling\",\"normloss\",\"make\",\"fuel\",\"aspriation\",\"doors\",\"body\",\"wheels\",\"engineloc\",\"whlbase\",\"length\",\"width\",\"height\",\"curbwgt\",\"egntype\",\"cylidr\",\"egnsize\",\"fuelsystem\",\"bore\",\"stroke\",\"cmprs_ation\",\"hrspwr\",\"pkrmp\",\"citympg\",\"highmpg\",\"price\"]"
   ]
  },
  {
   "cell_type": "code",
   "execution_count": 93,
   "id": "77af180b",
   "metadata": {},
   "outputs": [
    {
     "data": {
      "text/html": [
       "<div>\n",
       "<style scoped>\n",
       "    .dataframe tbody tr th:only-of-type {\n",
       "        vertical-align: middle;\n",
       "    }\n",
       "\n",
       "    .dataframe tbody tr th {\n",
       "        vertical-align: top;\n",
       "    }\n",
       "\n",
       "    .dataframe thead th {\n",
       "        text-align: right;\n",
       "    }\n",
       "</style>\n",
       "<table border=\"1\" class=\"dataframe\">\n",
       "  <thead>\n",
       "    <tr style=\"text-align: right;\">\n",
       "      <th></th>\n",
       "      <th>symboling</th>\n",
       "      <th>normloss</th>\n",
       "      <th>make</th>\n",
       "      <th>fuel</th>\n",
       "      <th>aspriation</th>\n",
       "      <th>doors</th>\n",
       "      <th>body</th>\n",
       "      <th>wheels</th>\n",
       "      <th>engineloc</th>\n",
       "      <th>whlbase</th>\n",
       "      <th>...</th>\n",
       "      <th>egnsize</th>\n",
       "      <th>fuelsystem</th>\n",
       "      <th>bore</th>\n",
       "      <th>stroke</th>\n",
       "      <th>cmprs_ation</th>\n",
       "      <th>hrspwr</th>\n",
       "      <th>pkrmp</th>\n",
       "      <th>citympg</th>\n",
       "      <th>highmpg</th>\n",
       "      <th>price</th>\n",
       "    </tr>\n",
       "  </thead>\n",
       "  <tbody>\n",
       "    <tr>\n",
       "      <th>0</th>\n",
       "      <td>3</td>\n",
       "      <td>NaN</td>\n",
       "      <td>alfa-romero</td>\n",
       "      <td>gas</td>\n",
       "      <td>std</td>\n",
       "      <td>two</td>\n",
       "      <td>convertible</td>\n",
       "      <td>rwd</td>\n",
       "      <td>front</td>\n",
       "      <td>88.6</td>\n",
       "      <td>...</td>\n",
       "      <td>130</td>\n",
       "      <td>mpfi</td>\n",
       "      <td>3.47</td>\n",
       "      <td>2.68</td>\n",
       "      <td>9.0</td>\n",
       "      <td>111.0</td>\n",
       "      <td>5000.0</td>\n",
       "      <td>21</td>\n",
       "      <td>27</td>\n",
       "      <td>13495.0</td>\n",
       "    </tr>\n",
       "    <tr>\n",
       "      <th>1</th>\n",
       "      <td>3</td>\n",
       "      <td>NaN</td>\n",
       "      <td>alfa-romero</td>\n",
       "      <td>gas</td>\n",
       "      <td>std</td>\n",
       "      <td>two</td>\n",
       "      <td>convertible</td>\n",
       "      <td>rwd</td>\n",
       "      <td>front</td>\n",
       "      <td>88.6</td>\n",
       "      <td>...</td>\n",
       "      <td>130</td>\n",
       "      <td>mpfi</td>\n",
       "      <td>3.47</td>\n",
       "      <td>2.68</td>\n",
       "      <td>9.0</td>\n",
       "      <td>111.0</td>\n",
       "      <td>5000.0</td>\n",
       "      <td>21</td>\n",
       "      <td>27</td>\n",
       "      <td>16500.0</td>\n",
       "    </tr>\n",
       "    <tr>\n",
       "      <th>2</th>\n",
       "      <td>1</td>\n",
       "      <td>NaN</td>\n",
       "      <td>alfa-romero</td>\n",
       "      <td>gas</td>\n",
       "      <td>std</td>\n",
       "      <td>two</td>\n",
       "      <td>hatchback</td>\n",
       "      <td>rwd</td>\n",
       "      <td>front</td>\n",
       "      <td>94.5</td>\n",
       "      <td>...</td>\n",
       "      <td>152</td>\n",
       "      <td>mpfi</td>\n",
       "      <td>2.68</td>\n",
       "      <td>3.47</td>\n",
       "      <td>9.0</td>\n",
       "      <td>154.0</td>\n",
       "      <td>5000.0</td>\n",
       "      <td>19</td>\n",
       "      <td>26</td>\n",
       "      <td>16500.0</td>\n",
       "    </tr>\n",
       "    <tr>\n",
       "      <th>3</th>\n",
       "      <td>2</td>\n",
       "      <td>164.0</td>\n",
       "      <td>audi</td>\n",
       "      <td>gas</td>\n",
       "      <td>std</td>\n",
       "      <td>four</td>\n",
       "      <td>sedan</td>\n",
       "      <td>fwd</td>\n",
       "      <td>front</td>\n",
       "      <td>99.8</td>\n",
       "      <td>...</td>\n",
       "      <td>109</td>\n",
       "      <td>mpfi</td>\n",
       "      <td>3.19</td>\n",
       "      <td>3.40</td>\n",
       "      <td>10.0</td>\n",
       "      <td>102.0</td>\n",
       "      <td>5500.0</td>\n",
       "      <td>24</td>\n",
       "      <td>30</td>\n",
       "      <td>13950.0</td>\n",
       "    </tr>\n",
       "    <tr>\n",
       "      <th>4</th>\n",
       "      <td>2</td>\n",
       "      <td>164.0</td>\n",
       "      <td>audi</td>\n",
       "      <td>gas</td>\n",
       "      <td>std</td>\n",
       "      <td>four</td>\n",
       "      <td>sedan</td>\n",
       "      <td>4wd</td>\n",
       "      <td>front</td>\n",
       "      <td>99.4</td>\n",
       "      <td>...</td>\n",
       "      <td>136</td>\n",
       "      <td>mpfi</td>\n",
       "      <td>3.19</td>\n",
       "      <td>3.40</td>\n",
       "      <td>8.0</td>\n",
       "      <td>115.0</td>\n",
       "      <td>5500.0</td>\n",
       "      <td>18</td>\n",
       "      <td>22</td>\n",
       "      <td>17450.0</td>\n",
       "    </tr>\n",
       "  </tbody>\n",
       "</table>\n",
       "<p>5 rows × 26 columns</p>\n",
       "</div>"
      ],
      "text/plain": [
       "   symboling  normloss         make fuel aspriation doors         body wheels  \\\n",
       "0          3       NaN  alfa-romero  gas        std   two  convertible    rwd   \n",
       "1          3       NaN  alfa-romero  gas        std   two  convertible    rwd   \n",
       "2          1       NaN  alfa-romero  gas        std   two    hatchback    rwd   \n",
       "3          2     164.0         audi  gas        std  four        sedan    fwd   \n",
       "4          2     164.0         audi  gas        std  four        sedan    4wd   \n",
       "\n",
       "  engineloc  whlbase  ...  egnsize  fuelsystem  bore  stroke cmprs_ation  \\\n",
       "0     front     88.6  ...      130        mpfi  3.47    2.68         9.0   \n",
       "1     front     88.6  ...      130        mpfi  3.47    2.68         9.0   \n",
       "2     front     94.5  ...      152        mpfi  2.68    3.47         9.0   \n",
       "3     front     99.8  ...      109        mpfi  3.19    3.40        10.0   \n",
       "4     front     99.4  ...      136        mpfi  3.19    3.40         8.0   \n",
       "\n",
       "  hrspwr   pkrmp citympg  highmpg    price  \n",
       "0  111.0  5000.0      21       27  13495.0  \n",
       "1  111.0  5000.0      21       27  16500.0  \n",
       "2  154.0  5000.0      19       26  16500.0  \n",
       "3  102.0  5500.0      24       30  13950.0  \n",
       "4  115.0  5500.0      18       22  17450.0  \n",
       "\n",
       "[5 rows x 26 columns]"
      ]
     },
     "execution_count": 93,
     "metadata": {},
     "output_type": "execute_result"
    }
   ],
   "source": [
    "auto.head()"
   ]
  },
  {
   "cell_type": "code",
   "execution_count": 94,
   "id": "6e441b8d",
   "metadata": {},
   "outputs": [
    {
     "data": {
      "text/plain": [
       "Index(['symboling', 'normloss', 'make', 'fuel', 'aspriation', 'doors', 'body',\n",
       "       'wheels', 'engineloc', 'whlbase', 'length', 'width', 'height',\n",
       "       'curbwgt', 'egntype', 'cylidr', 'egnsize', 'fuelsystem', 'bore',\n",
       "       'stroke', 'cmprs_ation', 'hrspwr', 'pkrmp', 'citympg', 'highmpg',\n",
       "       'price'],\n",
       "      dtype='object')"
      ]
     },
     "execution_count": 94,
     "metadata": {},
     "output_type": "execute_result"
    }
   ],
   "source": [
    "auto.columns"
   ]
  },
  {
   "cell_type": "code",
   "execution_count": 95,
   "id": "7ca58041",
   "metadata": {},
   "outputs": [
    {
     "data": {
      "text/plain": [
       "<AxesSubplot:>"
      ]
     },
     "execution_count": 95,
     "metadata": {},
     "output_type": "execute_result"
    },
    {
     "data": {
      "image/png": "[encoded data removed]",
      "text/plain": [
       "<Figure size 432x288 with 1 Axes>"
      ]
     },
     "metadata": {
      "needs_background": "light"
     },
     "output_type": "display_data"
    }
   ],
   "source": [
    "auto.boxplot()"
   ]
  },
  {
   "cell_type": "code",
   "execution_count": 96,
   "id": "3f76c3dd",
   "metadata": {},
   "outputs": [
    {
     "data": {
      "text/plain": [
       "array([[<AxesSubplot:title={'center':'symboling'}>,\n",
       "        <AxesSubplot:title={'center':'normloss'}>,\n",
       "        <AxesSubplot:title={'center':'whlbase'}>,\n",
       "        <AxesSubplot:title={'center':'length'}>],\n",
       "       [<AxesSubplot:title={'center':'width'}>,\n",
       "        <AxesSubplot:title={'center':'height'}>,\n",
       "        <AxesSubplot:title={'center':'curbwgt'}>,\n",
       "        <AxesSubplot:title={'center':'egnsize'}>],\n",
       "       [<AxesSubplot:title={'center':'bore'}>,\n",
       "        <AxesSubplot:title={'center':'stroke'}>,\n",
       "        <AxesSubplot:title={'center':'cmprs_ation'}>,\n",
       "        <AxesSubplot:title={'center':'hrspwr'}>],\n",
       "       [<AxesSubplot:title={'center':'pkrmp'}>,\n",
       "        <AxesSubplot:title={'center':'citympg'}>,\n",
       "        <AxesSubplot:title={'center':'highmpg'}>,\n",
       "        <AxesSubplot:title={'center':'price'}>]], dtype=object)"
      ]
     },
     "execution_count": 96,
     "metadata": {},
     "output_type": "execute_result"
    },
    {
     "data": {
      "image/png": "[encoded data removed]",
      "text/plain": [
       "<Figure size 432x288 with 16 Axes>"
      ]
     },
     "metadata": {
      "needs_background": "light"
     },
     "output_type": "display_data"
    }
   ],
   "source": [
    "auto.hist()"
   ]
  },
  {
   "cell_type": "code",
   "execution_count": 97,
   "id": "9dbf1337",
   "metadata": {},
   "outputs": [
    {
     "data": {
      "text/plain": [
       "symboling        int64\n",
       "normloss       float64\n",
       "make            object\n",
       "fuel            object\n",
       "aspriation      object\n",
       "doors           object\n",
       "body            object\n",
       "wheels          object\n",
       "engineloc       object\n",
       "whlbase        float64\n",
       "length         float64\n",
       "width          float64\n",
       "height         float64\n",
       "curbwgt          int64\n",
       "egntype         object\n",
       "cylidr          object\n",
       "egnsize          int64\n",
       "fuelsystem      object\n",
       "bore           float64\n",
       "stroke         float64\n",
       "cmprs_ation    float64\n",
       "hrspwr         float64\n",
       "pkrmp          float64\n",
       "citympg          int64\n",
       "highmpg          int64\n",
       "price          float64\n",
       "dtype: object"
      ]
     },
     "execution_count": 97,
     "metadata": {},
     "output_type": "execute_result"
    }
   ],
   "source": [
    "auto.dtypes"
   ]
  },
  {
   "cell_type": "code",
   "execution_count": 98,
   "id": "4e9b97f2",
   "metadata": {},
   "outputs": [
    {
     "data": {
      "text/plain": [
       "symboling       0\n",
       "normloss       41\n",
       "make            0\n",
       "fuel            0\n",
       "aspriation      0\n",
       "doors           2\n",
       "body            0\n",
       "wheels          0\n",
       "engineloc       0\n",
       "whlbase         0\n",
       "length          0\n",
       "width           0\n",
       "height          0\n",
       "curbwgt         0\n",
       "egntype         0\n",
       "cylidr          0\n",
       "egnsize         0\n",
       "fuelsystem      0\n",
       "bore            4\n",
       "stroke          4\n",
       "cmprs_ation     0\n",
       "hrspwr          2\n",
       "pkrmp           2\n",
       "citympg         0\n",
       "highmpg         0\n",
       "price           4\n",
       "dtype: int64"
      ]
     },
     "execution_count": 98,
     "metadata": {},
     "output_type": "execute_result"
    }
   ],
   "source": [
    "auto.isnull().sum()"
   ]
  },
  {
   "cell_type": "code",
   "execution_count": 99,
   "id": "32f5e902",
   "metadata": {},
   "outputs": [
    {
     "data": {
      "text/plain": [
       " 0    67\n",
       " 1    54\n",
       " 2    32\n",
       " 3    27\n",
       "-1    22\n",
       "-2     3\n",
       "Name: symboling, dtype: int64"
      ]
     },
     "execution_count": 99,
     "metadata": {},
     "output_type": "execute_result"
    }
   ],
   "source": [
    "auto.symboling.value_counts()"
   ]
  },
  {
   "cell_type": "code",
   "execution_count": 100,
   "id": "6aafbaab",
   "metadata": {},
   "outputs": [
    {
     "data": {
      "text/plain": [
       "array([ 3,  1,  2,  0, -1, -2], dtype=int64)"
      ]
     },
     "execution_count": 100,
     "metadata": {},
     "output_type": "execute_result"
    }
   ],
   "source": [
    "auto.symboling.unique()"
   ]
  },
  {
   "cell_type": "code",
   "execution_count": 101,
   "id": "2adc15a7",
   "metadata": {},
   "outputs": [],
   "source": [
    "auto.symboling=auto.symboling.replace([-2,-1],\"<0\")"
   ]
  },
  {
   "cell_type": "code",
   "execution_count": 102,
   "id": "b57433be",
   "metadata": {},
   "outputs": [
    {
     "data": {
      "text/plain": [
       "<AxesSubplot:xlabel='symboling', ylabel='count'>"
      ]
     },
     "execution_count": 102,
     "metadata": {},
     "output_type": "execute_result"
    },
    {
     "data": {
      "image/png": "[encoded data removed]",
      "text/plain": [
       "<Figure size 432x288 with 1 Axes>"
      ]
     },
     "metadata": {
      "needs_background": "light"
     },
     "output_type": "display_data"
    }
   ],
   "source": [
    "import seaborn as sns\n",
    "sns.countplot(x=\"symboling\",data=auto,order=[\"<0\",0,1,2,3])"
   ]
  },
  {
   "cell_type": "code",
   "execution_count": 103,
   "id": "3cb4c8d4",
   "metadata": {},
   "outputs": [],
   "source": [
    "import matplotlib.pyplot as plt\n"
   ]
  },
  {
   "cell_type": "code",
   "execution_count": 104,
   "id": "011c6c31",
   "metadata": {},
   "outputs": [
    {
     "data": {
      "text/plain": [
       "0     67\n",
       "1     54\n",
       "2     32\n",
       "3     27\n",
       "<0    25\n",
       "Name: symboling, dtype: int64"
      ]
     },
     "execution_count": 104,
     "metadata": {},
     "output_type": "execute_result"
    }
   ],
   "source": [
    "auto.symboling.value_counts()"
   ]
  },
  {
   "cell_type": "code",
   "execution_count": 105,
   "id": "0bda6727",
   "metadata": {},
   "outputs": [],
   "source": [
    "auto.normloss.fillna(auto.normloss.mean(),inplace=True)"
   ]
  },
  {
   "cell_type": "code",
   "execution_count": 106,
   "id": "74cb5b29",
   "metadata": {},
   "outputs": [
    {
     "data": {
      "text/plain": [
       "{'whiskers': [<matplotlib.lines.Line2D at 0x2a2ea7e6d00>,\n",
       "  <matplotlib.lines.Line2D at 0x2a2ea7f3040>],\n",
       " 'caps': [<matplotlib.lines.Line2D at 0x2a2ea7f33a0>,\n",
       "  <matplotlib.lines.Line2D at 0x2a2ea7f3730>],\n",
       " 'boxes': [<matplotlib.lines.Line2D at 0x2a2ea7e69d0>],\n",
       " 'medians': [<matplotlib.lines.Line2D at 0x2a2ea7f3ac0>],\n",
       " 'fliers': [<matplotlib.lines.Line2D at 0x2a2ea7f3e50>],\n",
       " 'means': []}"
      ]
     },
     "execution_count": 106,
     "metadata": {},
     "output_type": "execute_result"
    },
    {
     "data": {
      "image/png": "[encoded data removed]",
      "text/plain": [
       "<Figure size 432x288 with 1 Axes>"
      ]
     },
     "metadata": {
      "needs_background": "light"
     },
     "output_type": "display_data"
    }
   ],
   "source": [
    "plt.boxplot(auto.normloss)"
   ]
  },
  {
   "cell_type": "code",
   "execution_count": 107,
   "id": "44b9dbf5",
   "metadata": {},
   "outputs": [
    {
     "data": {
      "text/plain": [
       "(array([17., 46., 72., 20., 21., 18.,  9.,  0.,  1.,  1.]),\n",
       " array([ 65. ,  84.1, 103.2, 122.3, 141.4, 160.5, 179.6, 198.7, 217.8,\n",
       "        236.9, 256. ]),\n",
       " <BarContainer object of 10 artists>)"
      ]
     },
     "execution_count": 107,
     "metadata": {},
     "output_type": "execute_result"
    },
    {
     "data": {
      "image/png": "[encoded data removed]",
      "text/plain": [
       "<Figure size 432x288 with 1 Axes>"
      ]
     },
     "metadata": {
      "needs_background": "light"
     },
     "output_type": "display_data"
    }
   ],
   "source": [
    "plt.hist(auto.normloss)"
   ]
  },
  {
   "cell_type": "code",
   "execution_count": 108,
   "id": "fe02b63c",
   "metadata": {},
   "outputs": [
    {
     "data": {
      "text/plain": [
       "ShapiroResult(statistic=0.9490930438041687, pvalue=1.1780501836256008e-06)"
      ]
     },
     "execution_count": 108,
     "metadata": {},
     "output_type": "execute_result"
    }
   ],
   "source": [
    "from scipy import stats\n",
    "stats.shapiro(auto.normloss)"
   ]
  },
  {
   "cell_type": "code",
   "execution_count": 109,
   "id": "ad8801b4",
   "metadata": {},
   "outputs": [
    {
     "data": {
      "text/plain": [
       "count        205\n",
       "unique        22\n",
       "top       toyota\n",
       "freq          32\n",
       "Name: make, dtype: object"
      ]
     },
     "execution_count": 109,
     "metadata": {},
     "output_type": "execute_result"
    }
   ],
   "source": [
    "auto.make.describe()"
   ]
  },
  {
   "cell_type": "code",
   "execution_count": 110,
   "id": "63569fe5",
   "metadata": {},
   "outputs": [
    {
     "data": {
      "text/plain": [
       "toyota           32\n",
       "nissan           18\n",
       "mazda            17\n",
       "mitsubishi       13\n",
       "honda            13\n",
       "volkswagen       12\n",
       "subaru           12\n",
       "peugot           11\n",
       "volvo            11\n",
       "dodge             9\n",
       "mercedes-benz     8\n",
       "bmw               8\n",
       "audi              7\n",
       "plymouth          7\n",
       "saab              6\n",
       "porsche           5\n",
       "isuzu             4\n",
       "jaguar            3\n",
       "chevrolet         3\n",
       "alfa-romero       3\n",
       "renault           2\n",
       "mercury           1\n",
       "Name: make, dtype: int64"
      ]
     },
     "execution_count": 110,
     "metadata": {},
     "output_type": "execute_result"
    }
   ],
   "source": [
    "auto.make.value_counts()"
   ]
  },
  {
   "cell_type": "code",
   "execution_count": 111,
   "id": "8d6c827a",
   "metadata": {},
   "outputs": [
    {
     "data": {
      "text/plain": [
       "<AxesSubplot:xlabel='make', ylabel='count'>"
      ]
     },
     "execution_count": 111,
     "metadata": {},
     "output_type": "execute_result"
    },
    {
     "data": {
      "image/png": "[encoded data removed]",
      "text/plain": [
       "<Figure size 1656x720 with 1 Axes>"
      ]
     },
     "metadata": {
      "needs_background": "light"
     },
     "output_type": "display_data"
    }
   ],
   "source": [
    "plt.figure(figsize=(23,10))\n",
    "sns.countplot(x=\"make\",data=auto)"
   ]
  },
  {
   "cell_type": "code",
   "execution_count": 112,
   "id": "1758327b",
   "metadata": {},
   "outputs": [
    {
     "data": {
      "text/plain": [
       "count     205\n",
       "unique      2\n",
       "top       gas\n",
       "freq      185\n",
       "Name: fuel, dtype: object"
      ]
     },
     "execution_count": 112,
     "metadata": {},
     "output_type": "execute_result"
    }
   ],
   "source": [
    "auto.fuel.describe()"
   ]
  },
  {
   "cell_type": "code",
   "execution_count": 113,
   "id": "8a5f152c",
   "metadata": {},
   "outputs": [
    {
     "data": {
      "text/plain": [
       "gas       185\n",
       "diesel     20\n",
       "Name: fuel, dtype: int64"
      ]
     },
     "execution_count": 113,
     "metadata": {},
     "output_type": "execute_result"
    }
   ],
   "source": [
    "auto.fuel.value_counts()"
   ]
  },
  {
   "cell_type": "code",
   "execution_count": 114,
   "id": "0ab5e1ca",
   "metadata": {},
   "outputs": [
    {
     "data": {
      "text/plain": [
       "<AxesSubplot:xlabel='fuel', ylabel='count'>"
      ]
     },
     "execution_count": 114,
     "metadata": {},
     "output_type": "execute_result"
    },
    {
     "data": {
      "image/png": "[encoded data removed]",
      "text/plain": [
       "<Figure size 432x288 with 1 Axes>"
      ]
     },
     "metadata": {
      "needs_background": "light"
     },
     "output_type": "display_data"
    }
   ],
   "source": [
    "sns.countplot(x=\"fuel\",data=auto)"
   ]
  },
  {
   "cell_type": "code",
   "execution_count": 115,
   "id": "2b8f386e",
   "metadata": {},
   "outputs": [
    {
     "data": {
      "text/plain": [
       "count     205\n",
       "unique      2\n",
       "top       std\n",
       "freq      168\n",
       "Name: aspriation, dtype: object"
      ]
     },
     "execution_count": 115,
     "metadata": {},
     "output_type": "execute_result"
    }
   ],
   "source": [
    "auto.aspriation.describe()"
   ]
  },
  {
   "cell_type": "code",
   "execution_count": 116,
   "id": "9eae3c10",
   "metadata": {},
   "outputs": [
    {
     "data": {
      "text/plain": [
       "std      168\n",
       "turbo     37\n",
       "Name: aspriation, dtype: int64"
      ]
     },
     "execution_count": 116,
     "metadata": {},
     "output_type": "execute_result"
    }
   ],
   "source": [
    "auto.aspriation.value_counts()"
   ]
  },
  {
   "cell_type": "code",
   "execution_count": 117,
   "id": "9039788d",
   "metadata": {},
   "outputs": [
    {
     "data": {
      "text/plain": [
       "<AxesSubplot:xlabel='aspriation', ylabel='count'>"
      ]
     },
     "execution_count": 117,
     "metadata": {},
     "output_type": "execute_result"
    },
    {
     "data": {
      "image/png": "[encoded data removed]",
      "text/plain": [
       "<Figure size 432x288 with 1 Axes>"
      ]
     },
     "metadata": {
      "needs_background": "light"
     },
     "output_type": "display_data"
    }
   ],
   "source": [
    "sns.countplot(x=\"aspriation\",data=auto)"
   ]
  },
  {
   "cell_type": "code",
   "execution_count": 118,
   "id": "738b7173",
   "metadata": {},
   "outputs": [
    {
     "data": {
      "text/plain": [
       "count      203\n",
       "unique       2\n",
       "top       four\n",
       "freq       114\n",
       "Name: doors, dtype: object"
      ]
     },
     "execution_count": 118,
     "metadata": {},
     "output_type": "execute_result"
    }
   ],
   "source": [
    "auto.doors.describe()"
   ]
  },
  {
   "cell_type": "code",
   "execution_count": 119,
   "id": "8ae1a3e9",
   "metadata": {},
   "outputs": [
    {
     "data": {
      "text/plain": [
       "four    114\n",
       "two      89\n",
       "Name: doors, dtype: int64"
      ]
     },
     "execution_count": 119,
     "metadata": {},
     "output_type": "execute_result"
    }
   ],
   "source": [
    "auto.doors.value_counts()"
   ]
  },
  {
   "cell_type": "code",
   "execution_count": 120,
   "id": "68708f7b",
   "metadata": {},
   "outputs": [
    {
     "data": {
      "text/plain": [
       "<AxesSubplot:xlabel='doors', ylabel='count'>"
      ]
     },
     "execution_count": 120,
     "metadata": {},
     "output_type": "execute_result"
    },
    {
     "data": {
      "image/png": "[encoded data removed]",
      "text/plain": [
       "<Figure size 432x288 with 1 Axes>"
      ]
     },
     "metadata": {
      "needs_background": "light"
     },
     "output_type": "display_data"
    }
   ],
   "source": [
    "sns.countplot(x=\"doors\",data=auto)"
   ]
  },
  {
   "cell_type": "code",
   "execution_count": 121,
   "id": "111e0384",
   "metadata": {},
   "outputs": [
    {
     "data": {
      "text/plain": [
       "2"
      ]
     },
     "execution_count": 121,
     "metadata": {},
     "output_type": "execute_result"
    }
   ],
   "source": [
    "auto.doors.isnull().sum()"
   ]
  },
  {
   "cell_type": "code",
   "execution_count": 122,
   "id": "1cb1355e",
   "metadata": {},
   "outputs": [],
   "source": [
    "auto.doors.fillna('four',inplace=True)"
   ]
  },
  {
   "cell_type": "code",
   "execution_count": 123,
   "id": "6756ff41",
   "metadata": {},
   "outputs": [
    {
     "data": {
      "text/plain": [
       "0"
      ]
     },
     "execution_count": 123,
     "metadata": {},
     "output_type": "execute_result"
    }
   ],
   "source": [
    "auto.doors.isnull().sum()"
   ]
  },
  {
   "cell_type": "code",
   "execution_count": 124,
   "id": "a5cc6b9a",
   "metadata": {},
   "outputs": [
    {
     "data": {
      "text/plain": [
       "count       205\n",
       "unique        5\n",
       "top       sedan\n",
       "freq         96\n",
       "Name: body, dtype: object"
      ]
     },
     "execution_count": 124,
     "metadata": {},
     "output_type": "execute_result"
    }
   ],
   "source": [
    "auto.body.describe()"
   ]
  },
  {
   "cell_type": "code",
   "execution_count": 125,
   "id": "5a064bc9",
   "metadata": {},
   "outputs": [
    {
     "data": {
      "text/plain": [
       "sedan          96\n",
       "hatchback      70\n",
       "wagon          25\n",
       "hardtop         8\n",
       "convertible     6\n",
       "Name: body, dtype: int64"
      ]
     },
     "execution_count": 125,
     "metadata": {},
     "output_type": "execute_result"
    }
   ],
   "source": [
    "auto.body.value_counts()"
   ]
  },
  {
   "cell_type": "code",
   "execution_count": 126,
   "id": "fddb630e",
   "metadata": {},
   "outputs": [
    {
     "data": {
      "text/plain": [
       "<AxesSubplot:xlabel='body', ylabel='count'>"
      ]
     },
     "execution_count": 126,
     "metadata": {},
     "output_type": "execute_result"
    },
    {
     "data": {
      "image/png": "[encoded data removed]",
      "text/plain": [
       "<Figure size 432x288 with 1 Axes>"
      ]
     },
     "metadata": {
      "needs_background": "light"
     },
     "output_type": "display_data"
    }
   ],
   "source": [
    "sns.countplot(x=\"body\",data=auto)"
   ]
  },
  {
   "cell_type": "code",
   "execution_count": 127,
   "id": "794af1fe",
   "metadata": {},
   "outputs": [
    {
     "data": {
      "text/plain": [
       "0"
      ]
     },
     "execution_count": 127,
     "metadata": {},
     "output_type": "execute_result"
    }
   ],
   "source": [
    "auto.body.isnull().sum()"
   ]
  },
  {
   "cell_type": "code",
   "execution_count": 128,
   "id": "bc1bf07c",
   "metadata": {},
   "outputs": [
    {
     "data": {
      "text/plain": [
       "count     205\n",
       "unique      3\n",
       "top       fwd\n",
       "freq      120\n",
       "Name: wheels, dtype: object"
      ]
     },
     "execution_count": 128,
     "metadata": {},
     "output_type": "execute_result"
    }
   ],
   "source": [
    "auto.wheels.describe()"
   ]
  },
  {
   "cell_type": "code",
   "execution_count": 129,
   "id": "b454a606",
   "metadata": {},
   "outputs": [
    {
     "data": {
      "text/plain": [
       "fwd    120\n",
       "rwd     76\n",
       "4wd      9\n",
       "Name: wheels, dtype: int64"
      ]
     },
     "execution_count": 129,
     "metadata": {},
     "output_type": "execute_result"
    }
   ],
   "source": [
    "auto.wheels.value_counts()"
   ]
  },
  {
   "cell_type": "code",
   "execution_count": 130,
   "id": "94837859",
   "metadata": {},
   "outputs": [
    {
     "data": {
      "text/plain": [
       "<AxesSubplot:xlabel='wheels', ylabel='count'>"
      ]
     },
     "execution_count": 130,
     "metadata": {},
     "output_type": "execute_result"
    },
    {
     "data": {
      "image/png": "[encoded data removed]",
      "text/plain": [
       "<Figure size 432x288 with 1 Axes>"
      ]
     },
     "metadata": {
      "needs_background": "light"
     },
     "output_type": "display_data"
    }
   ],
   "source": [
    "sns.countplot(x=\"wheels\",data=auto)"
   ]
  },
  {
   "cell_type": "code",
   "execution_count": 131,
   "id": "81335199",
   "metadata": {},
   "outputs": [],
   "source": [
    "auto.wheels.replace(['4wd','rwd'],['not fwd','not fwd'],inplace=True)"
   ]
  },
  {
   "cell_type": "code",
   "execution_count": 132,
   "id": "28696726",
   "metadata": {},
   "outputs": [
    {
     "data": {
      "text/plain": [
       "0"
      ]
     },
     "execution_count": 132,
     "metadata": {},
     "output_type": "execute_result"
    }
   ],
   "source": [
    "auto.wheels.isnull().sum()"
   ]
  },
  {
   "cell_type": "code",
   "execution_count": 133,
   "id": "e2b6ad8d",
   "metadata": {},
   "outputs": [
    {
     "data": {
      "text/plain": [
       "count       205\n",
       "unique        2\n",
       "top       front\n",
       "freq        202\n",
       "Name: engineloc, dtype: object"
      ]
     },
     "execution_count": 133,
     "metadata": {},
     "output_type": "execute_result"
    }
   ],
   "source": [
    "auto.engineloc.describe()"
   ]
  },
  {
   "cell_type": "code",
   "execution_count": 134,
   "id": "cde2e3c3",
   "metadata": {},
   "outputs": [
    {
     "data": {
      "text/plain": [
       "front    202\n",
       "rear       3\n",
       "Name: engineloc, dtype: int64"
      ]
     },
     "execution_count": 134,
     "metadata": {},
     "output_type": "execute_result"
    }
   ],
   "source": [
    "auto.engineloc.value_counts()"
   ]
  },
  {
   "cell_type": "code",
   "execution_count": 135,
   "id": "8bfb59e2",
   "metadata": {},
   "outputs": [
    {
     "data": {
      "text/plain": [
       "<AxesSubplot:xlabel='engineloc', ylabel='count'>"
      ]
     },
     "execution_count": 135,
     "metadata": {},
     "output_type": "execute_result"
    },
    {
     "data": {
      "image/png": "[encoded data removed]",
      "text/plain": [
       "<Figure size 432x288 with 1 Axes>"
      ]
     },
     "metadata": {
      "needs_background": "light"
     },
     "output_type": "display_data"
    }
   ],
   "source": [
    "sns.countplot(x=\"engineloc\",data=auto)"
   ]
  },
  {
   "cell_type": "code",
   "execution_count": 136,
   "id": "427ae689",
   "metadata": {},
   "outputs": [
    {
     "data": {
      "text/plain": [
       "count    205.000000\n",
       "mean      98.756585\n",
       "std        6.021776\n",
       "min       86.600000\n",
       "25%       94.500000\n",
       "50%       97.000000\n",
       "75%      102.400000\n",
       "max      120.900000\n",
       "Name: whlbase, dtype: float64"
      ]
     },
     "execution_count": 136,
     "metadata": {},
     "output_type": "execute_result"
    }
   ],
   "source": [
    "auto.whlbase.describe()"
   ]
  },
  {
   "cell_type": "code",
   "execution_count": 137,
   "id": "effae138",
   "metadata": {},
   "outputs": [
    {
     "data": {
      "text/plain": [
       "ShapiroResult(statistic=0.9115860462188721, pvalue=1.0368441660801864e-09)"
      ]
     },
     "execution_count": 137,
     "metadata": {},
     "output_type": "execute_result"
    }
   ],
   "source": [
    "from scipy import stats\n",
    "stats.shapiro(auto.whlbase)"
   ]
  },
  {
   "cell_type": "code",
   "execution_count": 138,
   "id": "fab1042b",
   "metadata": {},
   "outputs": [
    {
     "data": {
      "text/plain": [
       "(array([ 8.,  9., 83., 42., 24., 14., 15.,  3.,  6.,  1.]),\n",
       " array([ 86.6 ,  90.03,  93.46,  96.89, 100.32, 103.75, 107.18, 110.61,\n",
       "        114.04, 117.47, 120.9 ]),\n",
       " <BarContainer object of 10 artists>)"
      ]
     },
     "execution_count": 138,
     "metadata": {},
     "output_type": "execute_result"
    },
    {
     "data": {
      "image/png": "[encoded data removed]",
      "text/plain": [
       "<Figure size 432x288 with 1 Axes>"
      ]
     },
     "metadata": {
      "needs_background": "light"
     },
     "output_type": "display_data"
    }
   ],
   "source": [
    "plt.hist(auto.whlbase)"
   ]
  },
  {
   "cell_type": "code",
   "execution_count": 139,
   "id": "4176af5b",
   "metadata": {},
   "outputs": [
    {
     "data": {
      "text/plain": [
       "{'whiskers': [<matplotlib.lines.Line2D at 0x2a2eabf2970>,\n",
       "  <matplotlib.lines.Line2D at 0x2a2eabf2d00>],\n",
       " 'caps': [<matplotlib.lines.Line2D at 0x2a2eabff0d0>,\n",
       "  <matplotlib.lines.Line2D at 0x2a2eabff460>],\n",
       " 'boxes': [<matplotlib.lines.Line2D at 0x2a2eabf25e0>],\n",
       " 'medians': [<matplotlib.lines.Line2D at 0x2a2eabff7f0>],\n",
       " 'fliers': [<matplotlib.lines.Line2D at 0x2a2eabffb80>],\n",
       " 'means': []}"
      ]
     },
     "execution_count": 139,
     "metadata": {},
     "output_type": "execute_result"
    },
    {
     "data": {
      "image/png": "[encoded data removed]",
      "text/plain": [
       "<Figure size 432x288 with 1 Axes>"
      ]
     },
     "metadata": {
      "needs_background": "light"
     },
     "output_type": "display_data"
    }
   ],
   "source": [
    "plt.boxplot(auto.whlbase)"
   ]
  },
  {
   "cell_type": "code",
   "execution_count": 140,
   "id": "ab99dfa3",
   "metadata": {},
   "outputs": [
    {
     "data": {
      "text/plain": [
       "count    205.000000\n",
       "mean     174.049268\n",
       "std       12.337289\n",
       "min      141.100000\n",
       "25%      166.300000\n",
       "50%      173.200000\n",
       "75%      183.100000\n",
       "max      208.100000\n",
       "Name: length, dtype: float64"
      ]
     },
     "execution_count": 140,
     "metadata": {},
     "output_type": "execute_result"
    }
   ],
   "source": [
    "auto.length.describe()"
   ]
  },
  {
   "cell_type": "code",
   "execution_count": 141,
   "id": "9fc8f715",
   "metadata": {},
   "outputs": [
    {
     "data": {
      "text/plain": [
       "ShapiroResult(statistic=0.9820953607559204, pvalue=0.01036272943019867)"
      ]
     },
     "execution_count": 141,
     "metadata": {},
     "output_type": "execute_result"
    }
   ],
   "source": [
    "stats.shapiro(auto.length)"
   ]
  },
  {
   "cell_type": "code",
   "execution_count": 142,
   "id": "a726c884",
   "metadata": {},
   "outputs": [
    {
     "data": {
      "text/plain": [
       "(array([ 3.,  3., 29., 23., 54., 39., 23., 20.,  8.,  3.]),\n",
       " array([141.1, 147.8, 154.5, 161.2, 167.9, 174.6, 181.3, 188. , 194.7,\n",
       "        201.4, 208.1]),\n",
       " <BarContainer object of 10 artists>)"
      ]
     },
     "execution_count": 142,
     "metadata": {},
     "output_type": "execute_result"
    },
    {
     "data": {
      "image/png": "[encoded data removed]",
      "text/plain": [
       "<Figure size 432x288 with 1 Axes>"
      ]
     },
     "metadata": {
      "needs_background": "light"
     },
     "output_type": "display_data"
    }
   ],
   "source": [
    "plt.hist(auto.length)"
   ]
  },
  {
   "cell_type": "code",
   "execution_count": 143,
   "id": "0fc68cfc",
   "metadata": {},
   "outputs": [
    {
     "data": {
      "text/plain": [
       "{'whiskers': [<matplotlib.lines.Line2D at 0x2a2eace41f0>,\n",
       "  <matplotlib.lines.Line2D at 0x2a2eace44c0>],\n",
       " 'caps': [<matplotlib.lines.Line2D at 0x2a2eace4850>,\n",
       "  <matplotlib.lines.Line2D at 0x2a2eace4be0>],\n",
       " 'boxes': [<matplotlib.lines.Line2D at 0x2a2eacd4ee0>],\n",
       " 'medians': [<matplotlib.lines.Line2D at 0x2a2eace4f70>],\n",
       " 'fliers': [<matplotlib.lines.Line2D at 0x2a2eaced340>],\n",
       " 'means': []}"
      ]
     },
     "execution_count": 143,
     "metadata": {},
     "output_type": "execute_result"
    },
    {
     "data": {
      "image/png": "[encoded data removed]",
      "text/plain": [
       "<Figure size 432x288 with 1 Axes>"
      ]
     },
     "metadata": {
      "needs_background": "light"
     },
     "output_type": "display_data"
    }
   ],
   "source": [
    "plt.boxplot(auto.length)"
   ]
  },
  {
   "cell_type": "code",
   "execution_count": 144,
   "id": "6a05d0b8",
   "metadata": {},
   "outputs": [
    {
     "data": {
      "text/plain": [
       "count    205.000000\n",
       "mean      65.907805\n",
       "std        2.145204\n",
       "min       60.300000\n",
       "25%       64.100000\n",
       "50%       65.500000\n",
       "75%       66.900000\n",
       "max       72.300000\n",
       "Name: width, dtype: float64"
      ]
     },
     "execution_count": 144,
     "metadata": {},
     "output_type": "execute_result"
    }
   ],
   "source": [
    "auto.width.describe()"
   ]
  },
  {
   "cell_type": "code",
   "execution_count": 145,
   "id": "a6374cbe",
   "metadata": {},
   "outputs": [
    {
     "data": {
      "text/plain": [
       "ShapiroResult(statistic=0.9210780262947083, pvalue=5.012857240416224e-09)"
      ]
     },
     "execution_count": 145,
     "metadata": {},
     "output_type": "execute_result"
    }
   ],
   "source": [
    "stats.shapiro(auto.width)"
   ]
  },
  {
   "cell_type": "code",
   "execution_count": 146,
   "id": "89a9abea",
   "metadata": {},
   "outputs": [
    {
     "data": {
      "text/plain": [
       "(array([ 1.,  2., 36., 39., 44., 42., 20.,  7.,  6.,  8.]),\n",
       " array([60.3, 61.5, 62.7, 63.9, 65.1, 66.3, 67.5, 68.7, 69.9, 71.1, 72.3]),\n",
       " <BarContainer object of 10 artists>)"
      ]
     },
     "execution_count": 146,
     "metadata": {},
     "output_type": "execute_result"
    },
    {
     "data": {
      "image/png": "[encoded data removed]",
      "text/plain": [
       "<Figure size 432x288 with 1 Axes>"
      ]
     },
     "metadata": {
      "needs_background": "light"
     },
     "output_type": "display_data"
    }
   ],
   "source": [
    "plt.hist(auto.width)"
   ]
  },
  {
   "cell_type": "code",
   "execution_count": 147,
   "id": "7273c6a6",
   "metadata": {},
   "outputs": [
    {
     "data": {
      "text/plain": [
       "{'whiskers': [<matplotlib.lines.Line2D at 0x2a2eadbd880>,\n",
       "  <matplotlib.lines.Line2D at 0x2a2eadbdc10>],\n",
       " 'caps': [<matplotlib.lines.Line2D at 0x2a2eadbdfa0>,\n",
       "  <matplotlib.lines.Line2D at 0x2a2eadca370>],\n",
       " 'boxes': [<matplotlib.lines.Line2D at 0x2a2eadbd4f0>],\n",
       " 'medians': [<matplotlib.lines.Line2D at 0x2a2eadca700>],\n",
       " 'fliers': [<matplotlib.lines.Line2D at 0x2a2eadcaa90>],\n",
       " 'means': []}"
      ]
     },
     "execution_count": 147,
     "metadata": {},
     "output_type": "execute_result"
    },
    {
     "data": {
      "image/png": "[encoded data removed]",
      "text/plain": [
       "<Figure size 432x288 with 1 Axes>"
      ]
     },
     "metadata": {
      "needs_background": "light"
     },
     "output_type": "display_data"
    }
   ],
   "source": [
    "plt.boxplot(auto.width)"
   ]
  },
  {
   "cell_type": "code",
   "execution_count": 148,
   "id": "bc258b14",
   "metadata": {},
   "outputs": [
    {
     "data": {
      "text/plain": [
       "count    205.000000\n",
       "mean      53.724878\n",
       "std        2.443522\n",
       "min       47.800000\n",
       "25%       52.000000\n",
       "50%       54.100000\n",
       "75%       55.500000\n",
       "max       59.800000\n",
       "Name: height, dtype: float64"
      ]
     },
     "execution_count": 148,
     "metadata": {},
     "output_type": "execute_result"
    }
   ],
   "source": [
    "auto.height.describe()"
   ]
  },
  {
   "cell_type": "code",
   "execution_count": 149,
   "id": "bf396903",
   "metadata": {},
   "outputs": [
    {
     "data": {
      "text/plain": [
       "ShapiroResult(statistic=0.9210780262947083, pvalue=5.012857240416224e-09)"
      ]
     },
     "execution_count": 149,
     "metadata": {},
     "output_type": "execute_result"
    }
   ],
   "source": [
    "stats.shapiro(auto.width)"
   ]
  },
  {
   "cell_type": "code",
   "execution_count": 150,
   "id": "34d87cc1",
   "metadata": {},
   "outputs": [
    {
     "data": {
      "text/plain": [
       "(array([ 3.,  9., 28., 25., 33., 41., 38., 15.,  4.,  9.]),\n",
       " array([47.8, 49. , 50.2, 51.4, 52.6, 53.8, 55. , 56.2, 57.4, 58.6, 59.8]),\n",
       " <BarContainer object of 10 artists>)"
      ]
     },
     "execution_count": 150,
     "metadata": {},
     "output_type": "execute_result"
    },
    {
     "data": {
      "image/png": "[encoded data removed]",
      "text/plain": [
       "<Figure size 432x288 with 1 Axes>"
      ]
     },
     "metadata": {
      "needs_background": "light"
     },
     "output_type": "display_data"
    }
   ],
   "source": [
    "plt.hist(auto.height)"
   ]
  },
  {
   "cell_type": "code",
   "execution_count": 151,
   "id": "3127043b",
   "metadata": {},
   "outputs": [
    {
     "data": {
      "text/plain": [
       "{'whiskers': [<matplotlib.lines.Line2D at 0x2a2ec1e03d0>,\n",
       "  <matplotlib.lines.Line2D at 0x2a2ec1e0760>],\n",
       " 'caps': [<matplotlib.lines.Line2D at 0x2a2ec1e0af0>,\n",
       "  <matplotlib.lines.Line2D at 0x2a2ec1e0e80>],\n",
       " 'boxes': [<matplotlib.lines.Line2D at 0x2a2ec1e0040>],\n",
       " 'medians': [<matplotlib.lines.Line2D at 0x2a2ec1ec250>],\n",
       " 'fliers': [<matplotlib.lines.Line2D at 0x2a2ec1ec5e0>],\n",
       " 'means': []}"
      ]
     },
     "execution_count": 151,
     "metadata": {},
     "output_type": "execute_result"
    },
    {
     "data": {
      "image/png": "[encoded data removed]",
      "text/plain": [
       "<Figure size 432x288 with 1 Axes>"
      ]
     },
     "metadata": {
      "needs_background": "light"
     },
     "output_type": "display_data"
    }
   ],
   "source": [
    "plt.boxplot(auto.height)"
   ]
  },
  {
   "cell_type": "code",
   "execution_count": 152,
   "id": "e35a3730",
   "metadata": {},
   "outputs": [
    {
     "data": {
      "text/plain": [
       "count     205.000000\n",
       "mean     2555.565854\n",
       "std       520.680204\n",
       "min      1488.000000\n",
       "25%      2145.000000\n",
       "50%      2414.000000\n",
       "75%      2935.000000\n",
       "max      4066.000000\n",
       "Name: curbwgt, dtype: float64"
      ]
     },
     "execution_count": 152,
     "metadata": {},
     "output_type": "execute_result"
    }
   ],
   "source": [
    "auto.curbwgt.describe()"
   ]
  },
  {
   "cell_type": "code",
   "execution_count": 153,
   "id": "aa2f6b61",
   "metadata": {},
   "outputs": [
    {
     "data": {
      "text/plain": [
       "0"
      ]
     },
     "execution_count": 153,
     "metadata": {},
     "output_type": "execute_result"
    }
   ],
   "source": [
    "auto.curbwgt.isnull().sum()"
   ]
  },
  {
   "cell_type": "code",
   "execution_count": 154,
   "id": "dbc517d0",
   "metadata": {},
   "outputs": [
    {
     "data": {
      "text/plain": [
       "array([2548, 2823, 2337, 2824, 2507, 2844, 2954, 3086, 3053, 2395, 2710,\n",
       "       2765, 3055, 3230, 3380, 3505, 1488, 1874, 1909, 1876, 2128, 1967,\n",
       "       1989, 2191, 2535, 2811, 1713, 1819, 1837, 1940, 1956, 2010, 2024,\n",
       "       2236, 2289, 2304, 2372, 2465, 2293, 2734, 4066, 3950, 1890, 1900,\n",
       "       1905, 1945, 1950, 2380, 2385, 2500, 2410, 2443, 2425, 2670, 2700,\n",
       "       3515, 3750, 3495, 3770, 3740, 3685, 3900, 3715, 2910, 1918, 1944,\n",
       "       2004, 2145, 2370, 2328, 2833, 2921, 2926, 2365, 2405, 2403, 1889,\n",
       "       2017, 1938, 1951, 2028, 1971, 2037, 2008, 2324, 2302, 3095, 3296,\n",
       "       3060, 3071, 3139, 3020, 3197, 3430, 3075, 3252, 3285, 3485, 3130,\n",
       "       2818, 2778, 2756, 2800, 3366, 2579, 2460, 2658, 2695, 2707, 2758,\n",
       "       2808, 2847, 2050, 2120, 2240, 2190, 2340, 2510, 2290, 2455, 2420,\n",
       "       2650, 1985, 2040, 2015, 2280, 3110, 2081, 2109, 2275, 2094, 2122,\n",
       "       2140, 2169, 2204, 2265, 2300, 2540, 2536, 2551, 2679, 2714, 2975,\n",
       "       2326, 2480, 2414, 2458, 2976, 3016, 3131, 3151, 2261, 2209, 2264,\n",
       "       2212, 2319, 2254, 2221, 2661, 2563, 2912, 3034, 2935, 3042, 3045,\n",
       "       3157, 2952, 3049, 3012, 3217, 3062], dtype=int64)"
      ]
     },
     "execution_count": 154,
     "metadata": {},
     "output_type": "execute_result"
    }
   ],
   "source": [
    "auto.curbwgt.unique()"
   ]
  },
  {
   "cell_type": "code",
   "execution_count": 155,
   "id": "84f62bb1",
   "metadata": {},
   "outputs": [
    {
     "data": {
      "text/plain": [
       "{'whiskers': [<matplotlib.lines.Line2D at 0x2a2ec24b490>,\n",
       "  <matplotlib.lines.Line2D at 0x2a2ec24b820>],\n",
       " 'caps': [<matplotlib.lines.Line2D at 0x2a2ec24bbe0>,\n",
       "  <matplotlib.lines.Line2D at 0x2a2ec24bf70>],\n",
       " 'boxes': [<matplotlib.lines.Line2D at 0x2a2ec24b100>],\n",
       " 'medians': [<matplotlib.lines.Line2D at 0x2a2ec258340>],\n",
       " 'fliers': [<matplotlib.lines.Line2D at 0x2a2ec2586d0>],\n",
       " 'means': []}"
      ]
     },
     "execution_count": 155,
     "metadata": {},
     "output_type": "execute_result"
    },
    {
     "data": {
      "image/png": "[encoded data removed]",
      "text/plain": [
       "<Figure size 432x288 with 1 Axes>"
      ]
     },
     "metadata": {
      "needs_background": "light"
     },
     "output_type": "display_data"
    }
   ],
   "source": [
    "plt.boxplot(auto.curbwgt)"
   ]
  },
  {
   "cell_type": "code",
   "execution_count": 156,
   "id": "fcdde424",
   "metadata": {},
   "outputs": [
    {
     "data": {
      "text/plain": [
       "(array([ 2., 29., 33., 50., 25., 23., 26.,  8.,  5.,  4.]),\n",
       " array([1488. , 1745.8, 2003.6, 2261.4, 2519.2, 2777. , 3034.8, 3292.6,\n",
       "        3550.4, 3808.2, 4066. ]),\n",
       " <BarContainer object of 10 artists>)"
      ]
     },
     "execution_count": 156,
     "metadata": {},
     "output_type": "execute_result"
    },
    {
     "data": {
      "image/png": "[encoded data removed]",
      "text/plain": [
       "<Figure size 432x288 with 1 Axes>"
      ]
     },
     "metadata": {
      "needs_background": "light"
     },
     "output_type": "display_data"
    }
   ],
   "source": [
    "plt.hist(auto.curbwgt)"
   ]
  },
  {
   "cell_type": "code",
   "execution_count": 157,
   "id": "308c7011",
   "metadata": {},
   "outputs": [
    {
     "data": {
      "text/plain": [
       "ShapiroResult(statistic=0.9530424475669861, pvalue=2.8916113024024526e-06)"
      ]
     },
     "execution_count": 157,
     "metadata": {},
     "output_type": "execute_result"
    }
   ],
   "source": [
    "stats.shapiro(auto.curbwgt)"
   ]
  },
  {
   "cell_type": "code",
   "execution_count": 158,
   "id": "af7a236e",
   "metadata": {},
   "outputs": [
    {
     "data": {
      "text/plain": [
       "count     205\n",
       "unique      7\n",
       "top       ohc\n",
       "freq      148\n",
       "Name: egntype, dtype: object"
      ]
     },
     "execution_count": 158,
     "metadata": {},
     "output_type": "execute_result"
    }
   ],
   "source": [
    "auto.egntype.describe()"
   ]
  },
  {
   "cell_type": "code",
   "execution_count": 159,
   "id": "74bb520a",
   "metadata": {},
   "outputs": [
    {
     "data": {
      "text/plain": [
       "ohc      148\n",
       "ohcf      15\n",
       "ohcv      13\n",
       "dohc      12\n",
       "l         12\n",
       "rotor      4\n",
       "dohcv      1\n",
       "Name: egntype, dtype: int64"
      ]
     },
     "execution_count": 159,
     "metadata": {},
     "output_type": "execute_result"
    }
   ],
   "source": [
    "auto.egntype.value_counts()"
   ]
  },
  {
   "cell_type": "code",
   "execution_count": 160,
   "id": "c20265bb",
   "metadata": {},
   "outputs": [
    {
     "data": {
      "text/plain": [
       "0"
      ]
     },
     "execution_count": 160,
     "metadata": {},
     "output_type": "execute_result"
    }
   ],
   "source": [
    "auto.egntype.isnull().sum()"
   ]
  },
  {
   "cell_type": "code",
   "execution_count": 161,
   "id": "32d1a4fc",
   "metadata": {},
   "outputs": [
    {
     "data": {
      "text/plain": [
       "array(['dohc', 'ohcv', 'ohc', 'l', 'rotor', 'ohcf', 'dohcv'], dtype=object)"
      ]
     },
     "execution_count": 161,
     "metadata": {},
     "output_type": "execute_result"
    }
   ],
   "source": [
    "auto.egntype.unique()"
   ]
  },
  {
   "cell_type": "code",
   "execution_count": 162,
   "id": "08f82405",
   "metadata": {},
   "outputs": [
    {
     "name": "stderr",
     "output_type": "stream",
     "text": [
      "C:\\Users\\Admin\\anaconda3\\lib\\site-packages\\seaborn\\_decorators.py:36: FutureWarning: Pass the following variable as a keyword arg: x. From version 0.12, the only valid positional argument will be `data`, and passing other arguments without an explicit keyword will result in an error or misinterpretation.\n",
      "  warnings.warn(\n"
     ]
    },
    {
     "data": {
      "text/plain": [
       "<AxesSubplot:xlabel='egntype', ylabel='count'>"
      ]
     },
     "execution_count": 162,
     "metadata": {},
     "output_type": "execute_result"
    },
    {
     "data": {
      "image/png": "[encoded data removed]",
      "text/plain": [
       "<Figure size 432x288 with 1 Axes>"
      ]
     },
     "metadata": {
      "needs_background": "light"
     },
     "output_type": "display_data"
    }
   ],
   "source": [
    "sns.countplot(auto.egntype)"
   ]
  },
  {
   "cell_type": "code",
   "execution_count": 163,
   "id": "c8af827c",
   "metadata": {},
   "outputs": [
    {
     "data": {
      "text/plain": [
       "four      159\n",
       "six        24\n",
       "five       11\n",
       "eight       5\n",
       "two         4\n",
       "three       1\n",
       "twelve      1\n",
       "Name: cylidr, dtype: int64"
      ]
     },
     "execution_count": 163,
     "metadata": {},
     "output_type": "execute_result"
    }
   ],
   "source": [
    "auto.cylidr.value_counts()"
   ]
  },
  {
   "cell_type": "code",
   "execution_count": 164,
   "id": "568ed210",
   "metadata": {},
   "outputs": [
    {
     "data": {
      "text/plain": [
       "0"
      ]
     },
     "execution_count": 164,
     "metadata": {},
     "output_type": "execute_result"
    }
   ],
   "source": [
    "auto.cylidr.isnull().sum()"
   ]
  },
  {
   "cell_type": "code",
   "execution_count": 165,
   "id": "9f960b33",
   "metadata": {},
   "outputs": [
    {
     "data": {
      "text/plain": [
       "array(['four', 'six', 'five', 'three', 'twelve', 'two', 'eight'],\n",
       "      dtype=object)"
      ]
     },
     "execution_count": 165,
     "metadata": {},
     "output_type": "execute_result"
    }
   ],
   "source": [
    "auto.cylidr.unique()"
   ]
  },
  {
   "cell_type": "code",
   "execution_count": 166,
   "id": "dc7aee6e",
   "metadata": {},
   "outputs": [],
   "source": [
    "auto.cylidr.replace(['three','two','five','four','six','eight','twelve'],['less than five','less than five','five','four','six','>=eight','>=eight'],inplace=True)"
   ]
  },
  {
   "cell_type": "code",
   "execution_count": 167,
   "id": "cffbe7d7",
   "metadata": {},
   "outputs": [
    {
     "name": "stderr",
     "output_type": "stream",
     "text": [
      "C:\\Users\\Admin\\anaconda3\\lib\\site-packages\\seaborn\\_decorators.py:36: FutureWarning: Pass the following variable as a keyword arg: x. From version 0.12, the only valid positional argument will be `data`, and passing other arguments without an explicit keyword will result in an error or misinterpretation.\n",
      "  warnings.warn(\n"
     ]
    },
    {
     "data": {
      "text/plain": [
       "<AxesSubplot:xlabel='cylidr', ylabel='count'>"
      ]
     },
     "execution_count": 167,
     "metadata": {},
     "output_type": "execute_result"
    },
    {
     "data": {
      "image/png": "[encoded data removed]",
      "text/plain": [
       "<Figure size 432x288 with 1 Axes>"
      ]
     },
     "metadata": {
      "needs_background": "light"
     },
     "output_type": "display_data"
    }
   ],
   "source": [
    "sns.countplot(auto.cylidr)"
   ]
  },
  {
   "cell_type": "code",
   "execution_count": 168,
   "id": "04c42df9",
   "metadata": {},
   "outputs": [
    {
     "data": {
      "text/plain": [
       "count    205.000000\n",
       "mean     126.907317\n",
       "std       41.642693\n",
       "min       61.000000\n",
       "25%       97.000000\n",
       "50%      120.000000\n",
       "75%      141.000000\n",
       "max      326.000000\n",
       "Name: egnsize, dtype: float64"
      ]
     },
     "execution_count": 168,
     "metadata": {},
     "output_type": "execute_result"
    }
   ],
   "source": [
    "auto.egnsize.describe()"
   ]
  },
  {
   "cell_type": "code",
   "execution_count": 169,
   "id": "91c9929d",
   "metadata": {},
   "outputs": [
    {
     "data": {
      "text/plain": [
       "0"
      ]
     },
     "execution_count": 169,
     "metadata": {},
     "output_type": "execute_result"
    }
   ],
   "source": [
    "auto.egnsize.isnull().sum()"
   ]
  },
  {
   "cell_type": "code",
   "execution_count": 170,
   "id": "c9fc986c",
   "metadata": {},
   "outputs": [
    {
     "data": {
      "text/plain": [
       "array([130, 152, 109, 136, 131, 108, 164, 209,  61,  90,  98, 122, 156,\n",
       "        92,  79, 110, 111, 119, 258, 326,  91,  70,  80, 140, 134, 183,\n",
       "       234, 308, 304,  97, 103, 120, 181, 151, 194, 203, 132, 121, 146,\n",
       "       171, 161, 141, 173, 145], dtype=int64)"
      ]
     },
     "execution_count": 170,
     "metadata": {},
     "output_type": "execute_result"
    }
   ],
   "source": [
    "auto.egnsize.unique()"
   ]
  },
  {
   "cell_type": "code",
   "execution_count": 171,
   "id": "ea0f0f18",
   "metadata": {},
   "outputs": [
    {
     "data": {
      "text/plain": [
       "{'whiskers': [<matplotlib.lines.Line2D at 0x2a2ec40d4c0>,\n",
       "  <matplotlib.lines.Line2D at 0x2a2ec40d850>],\n",
       " 'caps': [<matplotlib.lines.Line2D at 0x2a2ec40dbe0>,\n",
       "  <matplotlib.lines.Line2D at 0x2a2ec40df70>],\n",
       " 'boxes': [<matplotlib.lines.Line2D at 0x2a2ec40d130>],\n",
       " 'medians': [<matplotlib.lines.Line2D at 0x2a2ec418340>],\n",
       " 'fliers': [<matplotlib.lines.Line2D at 0x2a2ec4186d0>],\n",
       " 'means': []}"
      ]
     },
     "execution_count": 171,
     "metadata": {},
     "output_type": "execute_result"
    },
    {
     "data": {
      "image/png": "[encoded data removed]",
      "text/plain": [
       "<Figure size 432x288 with 1 Axes>"
      ]
     },
     "metadata": {
      "needs_background": "light"
     },
     "output_type": "display_data"
    }
   ],
   "source": [
    "plt.boxplot(auto.egnsize)"
   ]
  },
  {
   "cell_type": "code",
   "execution_count": 172,
   "id": "32d94991",
   "metadata": {},
   "outputs": [
    {
     "data": {
      "text/plain": [
       "(array([ 6., 95., 46., 30., 14.,  7.,  2.,  2.,  0.,  3.]),\n",
       " array([ 61. ,  87.5, 114. , 140.5, 167. , 193.5, 220. , 246.5, 273. ,\n",
       "        299.5, 326. ]),\n",
       " <BarContainer object of 10 artists>)"
      ]
     },
     "execution_count": 172,
     "metadata": {},
     "output_type": "execute_result"
    },
    {
     "data": {
      "image/png": "[encoded data removed]",
      "text/plain": [
       "<Figure size 432x288 with 1 Axes>"
      ]
     },
     "metadata": {
      "needs_background": "light"
     },
     "output_type": "display_data"
    }
   ],
   "source": [
    "plt.hist(auto.egnsize)"
   ]
  },
  {
   "cell_type": "code",
   "execution_count": 173,
   "id": "5a590705",
   "metadata": {},
   "outputs": [
    {
     "data": {
      "text/plain": [
       "ShapiroResult(statistic=0.8294388651847839, pvalue=3.0569154792128156e-14)"
      ]
     },
     "execution_count": 173,
     "metadata": {},
     "output_type": "execute_result"
    }
   ],
   "source": [
    "stats.shapiro(auto.egnsize)"
   ]
  },
  {
   "cell_type": "code",
   "execution_count": 174,
   "id": "1b5b9ca1",
   "metadata": {},
   "outputs": [
    {
     "data": {
      "text/plain": [
       "count      205\n",
       "unique       8\n",
       "top       mpfi\n",
       "freq        94\n",
       "Name: fuelsystem, dtype: object"
      ]
     },
     "execution_count": 174,
     "metadata": {},
     "output_type": "execute_result"
    }
   ],
   "source": [
    "auto.fuelsystem.describe()"
   ]
  },
  {
   "cell_type": "code",
   "execution_count": 175,
   "id": "952c85f3",
   "metadata": {},
   "outputs": [
    {
     "data": {
      "text/plain": [
       "0"
      ]
     },
     "execution_count": 175,
     "metadata": {},
     "output_type": "execute_result"
    }
   ],
   "source": [
    "auto.fuelsystem.isnull().sum()"
   ]
  },
  {
   "cell_type": "code",
   "execution_count": 176,
   "id": "0d6fa07b",
   "metadata": {},
   "outputs": [
    {
     "data": {
      "text/plain": [
       "array(['mpfi', '2bbl', 'mfi', '1bbl', 'spfi', '4bbl', 'idi', 'spdi'],\n",
       "      dtype=object)"
      ]
     },
     "execution_count": 176,
     "metadata": {},
     "output_type": "execute_result"
    }
   ],
   "source": [
    "auto.fuelsystem.unique()"
   ]
  },
  {
   "cell_type": "code",
   "execution_count": 177,
   "id": "4f838fd7",
   "metadata": {},
   "outputs": [
    {
     "name": "stderr",
     "output_type": "stream",
     "text": [
      "C:\\Users\\Admin\\anaconda3\\lib\\site-packages\\seaborn\\_decorators.py:36: FutureWarning: Pass the following variable as a keyword arg: x. From version 0.12, the only valid positional argument will be `data`, and passing other arguments without an explicit keyword will result in an error or misinterpretation.\n",
      "  warnings.warn(\n"
     ]
    },
    {
     "data": {
      "text/plain": [
       "<AxesSubplot:xlabel='fuelsystem', ylabel='count'>"
      ]
     },
     "execution_count": 177,
     "metadata": {},
     "output_type": "execute_result"
    },
    {
     "data": {
      "image/png": "[encoded data removed]",
      "text/plain": [
       "<Figure size 432x288 with 1 Axes>"
      ]
     },
     "metadata": {
      "needs_background": "light"
     },
     "output_type": "display_data"
    }
   ],
   "source": [
    "sns.countplot(auto.fuelsystem)"
   ]
  },
  {
   "cell_type": "code",
   "execution_count": 178,
   "id": "13e47ef9",
   "metadata": {},
   "outputs": [
    {
     "data": {
      "text/plain": [
       "count    201.000000\n",
       "mean       3.329751\n",
       "std        0.273539\n",
       "min        2.540000\n",
       "25%        3.150000\n",
       "50%        3.310000\n",
       "75%        3.590000\n",
       "max        3.940000\n",
       "Name: bore, dtype: float64"
      ]
     },
     "execution_count": 178,
     "metadata": {},
     "output_type": "execute_result"
    }
   ],
   "source": [
    "auto.bore.describe()"
   ]
  },
  {
   "cell_type": "code",
   "execution_count": 179,
   "id": "8fb94cf6",
   "metadata": {},
   "outputs": [
    {
     "data": {
      "text/plain": [
       "4"
      ]
     },
     "execution_count": 179,
     "metadata": {},
     "output_type": "execute_result"
    }
   ],
   "source": [
    "auto.bore.isnull().sum()"
   ]
  },
  {
   "cell_type": "code",
   "execution_count": 180,
   "id": "41d74abc",
   "metadata": {},
   "outputs": [],
   "source": [
    "auto.bore.fillna(3.329751,inplace=True)"
   ]
  },
  {
   "cell_type": "code",
   "execution_count": 181,
   "id": "c5be5510",
   "metadata": {},
   "outputs": [
    {
     "data": {
      "text/plain": [
       "0"
      ]
     },
     "execution_count": 181,
     "metadata": {},
     "output_type": "execute_result"
    }
   ],
   "source": [
    "auto.bore.isnull().sum()"
   ]
  },
  {
   "cell_type": "code",
   "execution_count": 182,
   "id": "b6479f17",
   "metadata": {},
   "outputs": [
    {
     "data": {
      "text/plain": [
       "array([3.47    , 2.68    , 3.19    , 3.13    , 3.5     , 3.31    ,\n",
       "       3.62    , 2.91    , 3.03    , 2.97    , 3.34    , 3.6     ,\n",
       "       2.92    , 3.15    , 3.43    , 3.63    , 3.54    , 3.08    ,\n",
       "       3.329751, 3.39    , 3.76    , 3.58    , 3.46    , 3.8     ,\n",
       "       3.78    , 3.17    , 3.35    , 3.59    , 2.99    , 3.33    ,\n",
       "       3.7     , 3.61    , 3.94    , 3.74    , 2.54    , 3.05    ,\n",
       "       3.27    , 3.24    , 3.01    ])"
      ]
     },
     "execution_count": 182,
     "metadata": {},
     "output_type": "execute_result"
    }
   ],
   "source": [
    "auto.bore.unique()"
   ]
  },
  {
   "cell_type": "code",
   "execution_count": 183,
   "id": "cf015420",
   "metadata": {},
   "outputs": [
    {
     "data": {
      "text/plain": [
       "{'whiskers': [<matplotlib.lines.Line2D at 0x2a2ec5566a0>,\n",
       "  <matplotlib.lines.Line2D at 0x2a2ec556a30>],\n",
       " 'caps': [<matplotlib.lines.Line2D at 0x2a2ec556dc0>,\n",
       "  <matplotlib.lines.Line2D at 0x2a2ec563190>],\n",
       " 'boxes': [<matplotlib.lines.Line2D at 0x2a2ec556370>],\n",
       " 'medians': [<matplotlib.lines.Line2D at 0x2a2ec563520>],\n",
       " 'fliers': [<matplotlib.lines.Line2D at 0x2a2ec5638b0>],\n",
       " 'means': []}"
      ]
     },
     "execution_count": 183,
     "metadata": {},
     "output_type": "execute_result"
    },
    {
     "data": {
      "image/png": "[encoded data removed]",
      "text/plain": [
       "<Figure size 432x288 with 1 Axes>"
      ]
     },
     "metadata": {
      "needs_background": "light"
     },
     "output_type": "display_data"
    }
   ],
   "source": [
    "plt.boxplot(auto.bore)"
   ]
  },
  {
   "cell_type": "code",
   "execution_count": 184,
   "id": "7ec2fe58",
   "metadata": {},
   "outputs": [
    {
     "data": {
      "text/plain": [
       "(array([ 1.,  1.,  8., 37., 40., 28., 27., 42., 17.,  4.]),\n",
       " array([2.54, 2.68, 2.82, 2.96, 3.1 , 3.24, 3.38, 3.52, 3.66, 3.8 , 3.94]),\n",
       " <BarContainer object of 10 artists>)"
      ]
     },
     "execution_count": 184,
     "metadata": {},
     "output_type": "execute_result"
    },
    {
     "data": {
      "image/png": "[encoded data removed]",
      "text/plain": [
       "<Figure size 432x288 with 1 Axes>"
      ]
     },
     "metadata": {
      "needs_background": "light"
     },
     "output_type": "display_data"
    }
   ],
   "source": [
    "plt.hist(auto.bore)"
   ]
  },
  {
   "cell_type": "code",
   "execution_count": 185,
   "id": "f177898b",
   "metadata": {},
   "outputs": [
    {
     "data": {
      "text/plain": [
       "ShapiroResult(statistic=0.967185378074646, pvalue=0.00010421191109344363)"
      ]
     },
     "execution_count": 185,
     "metadata": {},
     "output_type": "execute_result"
    }
   ],
   "source": [
    "stats.shapiro(auto.bore)"
   ]
  },
  {
   "cell_type": "code",
   "execution_count": 186,
   "id": "d3f9725a",
   "metadata": {},
   "outputs": [
    {
     "data": {
      "text/plain": [
       "count    201.000000\n",
       "mean       3.255423\n",
       "std        0.316717\n",
       "min        2.070000\n",
       "25%        3.110000\n",
       "50%        3.290000\n",
       "75%        3.410000\n",
       "max        4.170000\n",
       "Name: stroke, dtype: float64"
      ]
     },
     "execution_count": 186,
     "metadata": {},
     "output_type": "execute_result"
    }
   ],
   "source": [
    "auto.stroke.describe()"
   ]
  },
  {
   "cell_type": "code",
   "execution_count": 187,
   "id": "8e2b2b65",
   "metadata": {},
   "outputs": [
    {
     "data": {
      "text/plain": [
       "4"
      ]
     },
     "execution_count": 187,
     "metadata": {},
     "output_type": "execute_result"
    }
   ],
   "source": [
    "auto.stroke.isnull().sum()"
   ]
  },
  {
   "cell_type": "code",
   "execution_count": 188,
   "id": "a544c3c5",
   "metadata": {},
   "outputs": [],
   "source": [
    "auto.stroke.fillna(3.255423,inplace=True)"
   ]
  },
  {
   "cell_type": "code",
   "execution_count": 189,
   "id": "34e5fd79",
   "metadata": {},
   "outputs": [
    {
     "data": {
      "text/plain": [
       "0"
      ]
     },
     "execution_count": 189,
     "metadata": {},
     "output_type": "execute_result"
    }
   ],
   "source": [
    "auto.stroke.isnull().sum()"
   ]
  },
  {
   "cell_type": "code",
   "execution_count": 190,
   "id": "0497e55f",
   "metadata": {},
   "outputs": [
    {
     "data": {
      "text/plain": [
       "array([2.68    , 3.47    , 3.4     , 2.8     , 3.19    , 3.39    ,\n",
       "       3.03    , 3.11    , 3.23    , 3.46    , 3.9     , 3.41    ,\n",
       "       3.07    , 3.58    , 4.17    , 2.76    , 3.15    , 3.255423,\n",
       "       3.16    , 3.64    , 3.1     , 3.35    , 3.12    , 3.86    ,\n",
       "       3.29    , 3.27    , 3.52    , 2.19    , 3.21    , 2.9     ,\n",
       "       2.07    , 2.36    , 2.64    , 3.08    , 3.5     , 3.54    ,\n",
       "       2.87    ])"
      ]
     },
     "execution_count": 190,
     "metadata": {},
     "output_type": "execute_result"
    }
   ],
   "source": [
    "auto.stroke.unique()"
   ]
  },
  {
   "cell_type": "code",
   "execution_count": 191,
   "id": "4bf6f2b8",
   "metadata": {},
   "outputs": [
    {
     "data": {
      "text/plain": [
       "{'whiskers': [<matplotlib.lines.Line2D at 0x2a2ec640be0>,\n",
       "  <matplotlib.lines.Line2D at 0x2a2ec640f70>],\n",
       " 'caps': [<matplotlib.lines.Line2D at 0x2a2ec650340>,\n",
       "  <matplotlib.lines.Line2D at 0x2a2ec6506d0>],\n",
       " 'boxes': [<matplotlib.lines.Line2D at 0x2a2ec640850>],\n",
       " 'medians': [<matplotlib.lines.Line2D at 0x2a2ec650a60>],\n",
       " 'fliers': [<matplotlib.lines.Line2D at 0x2a2ec650df0>],\n",
       " 'means': []}"
      ]
     },
     "execution_count": 191,
     "metadata": {},
     "output_type": "execute_result"
    },
    {
     "data": {
      "image/png": "[encoded data removed]",
      "text/plain": [
       "<Figure size 432x288 with 1 Axes>"
      ]
     },
     "metadata": {
      "needs_background": "light"
     },
     "output_type": "display_data"
    }
   ],
   "source": [
    "plt.boxplot(auto.stroke)"
   ]
  },
  {
   "cell_type": "code",
   "execution_count": 192,
   "id": "f31278c0",
   "metadata": {},
   "outputs": [
    {
     "data": {
      "text/plain": [
       "(array([ 3.,  1., 13.,  7., 30., 56., 71., 15.,  7.,  2.]),\n",
       " array([2.07, 2.28, 2.49, 2.7 , 2.91, 3.12, 3.33, 3.54, 3.75, 3.96, 4.17]),\n",
       " <BarContainer object of 10 artists>)"
      ]
     },
     "execution_count": 192,
     "metadata": {},
     "output_type": "execute_result"
    },
    {
     "data": {
      "image/png": "[encoded data removed]",
      "text/plain": [
       "<Figure size 432x288 with 1 Axes>"
      ]
     },
     "metadata": {
      "needs_background": "light"
     },
     "output_type": "display_data"
    }
   ],
   "source": [
    "plt.hist(auto.stroke)"
   ]
  },
  {
   "cell_type": "code",
   "execution_count": 193,
   "id": "6bdfa2d1",
   "metadata": {},
   "outputs": [
    {
     "data": {
      "text/plain": [
       "ShapiroResult(statistic=0.9377973675727844, pvalue=1.0984009435333064e-07)"
      ]
     },
     "execution_count": 193,
     "metadata": {},
     "output_type": "execute_result"
    }
   ],
   "source": [
    "stats.shapiro(auto.stroke)"
   ]
  },
  {
   "cell_type": "code",
   "execution_count": 194,
   "id": "1f486ed2",
   "metadata": {},
   "outputs": [
    {
     "data": {
      "text/plain": [
       "count    205.000000\n",
       "mean      10.142537\n",
       "std        3.972040\n",
       "min        7.000000\n",
       "25%        8.600000\n",
       "50%        9.000000\n",
       "75%        9.400000\n",
       "max       23.000000\n",
       "Name: cmprs_ation, dtype: float64"
      ]
     },
     "execution_count": 194,
     "metadata": {},
     "output_type": "execute_result"
    }
   ],
   "source": [
    "auto.cmprs_ation.describe()"
   ]
  },
  {
   "cell_type": "code",
   "execution_count": 195,
   "id": "d59babfc",
   "metadata": {},
   "outputs": [
    {
     "data": {
      "text/plain": [
       "0"
      ]
     },
     "execution_count": 195,
     "metadata": {},
     "output_type": "execute_result"
    }
   ],
   "source": [
    "auto.cmprs_ation.isnull().sum()"
   ]
  },
  {
   "cell_type": "code",
   "execution_count": 196,
   "id": "5bd9f13f",
   "metadata": {},
   "outputs": [
    {
     "data": {
      "text/plain": [
       "array([ 9.  , 10.  ,  8.  ,  8.5 ,  8.3 ,  7.  ,  8.8 ,  9.5 ,  9.6 ,\n",
       "        9.41,  9.4 ,  7.6 ,  9.2 , 10.1 ,  9.1 ,  8.1 , 11.5 ,  8.6 ,\n",
       "       22.7 , 22.  , 21.5 ,  7.5 , 21.9 ,  7.8 ,  8.4 , 21.  ,  8.7 ,\n",
       "        9.31,  9.3 ,  7.7 , 22.5 , 23.  ])"
      ]
     },
     "execution_count": 196,
     "metadata": {},
     "output_type": "execute_result"
    }
   ],
   "source": [
    "auto.cmprs_ation.unique()"
   ]
  },
  {
   "cell_type": "code",
   "execution_count": 197,
   "id": "b12c87a9",
   "metadata": {},
   "outputs": [],
   "source": [
    "auto.cmprs_ation.fillna(10.142537,inplace=True)"
   ]
  },
  {
   "cell_type": "code",
   "execution_count": 198,
   "id": "f462e591",
   "metadata": {},
   "outputs": [
    {
     "data": {
      "text/plain": [
       "0"
      ]
     },
     "execution_count": 198,
     "metadata": {},
     "output_type": "execute_result"
    }
   ],
   "source": [
    "auto.cmprs_ation.isnull().sum()"
   ]
  },
  {
   "cell_type": "code",
   "execution_count": 201,
   "id": "257dfc27",
   "metadata": {},
   "outputs": [
    {
     "data": {
      "text/plain": [
       "{'whiskers': [<matplotlib.lines.Line2D at 0x2a2ec7217f0>,\n",
       "  <matplotlib.lines.Line2D at 0x2a2ec721b80>],\n",
       " 'caps': [<matplotlib.lines.Line2D at 0x2a2ec721f10>,\n",
       "  <matplotlib.lines.Line2D at 0x2a2ec72f2e0>],\n",
       " 'boxes': [<matplotlib.lines.Line2D at 0x2a2ec721460>],\n",
       " 'medians': [<matplotlib.lines.Line2D at 0x2a2ec72f670>],\n",
       " 'fliers': [<matplotlib.lines.Line2D at 0x2a2ec72fa00>],\n",
       " 'means': []}"
      ]
     },
     "execution_count": 201,
     "metadata": {},
     "output_type": "execute_result"
    },
    {
     "data": {
      "image/png": "[encoded data removed]",
      "text/plain": [
       "<Figure size 432x288 with 1 Axes>"
      ]
     },
     "metadata": {
      "needs_background": "light"
     },
     "output_type": "display_data"
    }
   ],
   "source": [
    "plt.boxplot(auto.cmprs_ation)"
   ]
  },
  {
   "cell_type": "code",
   "execution_count": 202,
   "id": "87cbf11a",
   "metadata": {},
   "outputs": [
    {
     "data": {
      "text/plain": [
       "(array([ 51., 133.,   1.,   0.,   0.,   0.,   0.,   0.,   5.,  15.]),\n",
       " array([ 7. ,  8.6, 10.2, 11.8, 13.4, 15. , 16.6, 18.2, 19.8, 21.4, 23. ]),\n",
       " <BarContainer object of 10 artists>)"
      ]
     },
     "execution_count": 202,
     "metadata": {},
     "output_type": "execute_result"
    },
    {
     "data": {
      "image/png": "[encoded data removed]",
      "text/plain": [
       "<Figure size 432x288 with 1 Axes>"
      ]
     },
     "metadata": {
      "needs_background": "light"
     },
     "output_type": "display_data"
    }
   ],
   "source": [
    "plt.hist(auto.cmprs_ation)"
   ]
  },
  {
   "cell_type": "code",
   "execution_count": 203,
   "id": "36f9b339",
   "metadata": {},
   "outputs": [
    {
     "data": {
      "text/plain": [
       "ShapiroResult(statistic=0.49774158000946045, pvalue=8.12114079238121e-24)"
      ]
     },
     "execution_count": 203,
     "metadata": {},
     "output_type": "execute_result"
    }
   ],
   "source": [
    "stats.shapiro(auto.cmprs_ation)"
   ]
  },
  {
   "cell_type": "code",
   "execution_count": 204,
   "id": "4e146345",
   "metadata": {},
   "outputs": [
    {
     "data": {
      "text/plain": [
       "count    203.000000\n",
       "mean     104.256158\n",
       "std       39.714369\n",
       "min       48.000000\n",
       "25%       70.000000\n",
       "50%       95.000000\n",
       "75%      116.000000\n",
       "max      288.000000\n",
       "Name: hrspwr, dtype: float64"
      ]
     },
     "execution_count": 204,
     "metadata": {},
     "output_type": "execute_result"
    }
   ],
   "source": [
    "auto.hrspwr.describe()"
   ]
  },
  {
   "cell_type": "code",
   "execution_count": 205,
   "id": "cf724a68",
   "metadata": {},
   "outputs": [
    {
     "data": {
      "text/plain": [
       "2"
      ]
     },
     "execution_count": 205,
     "metadata": {},
     "output_type": "execute_result"
    }
   ],
   "source": [
    "auto.hrspwr.isnull().sum()"
   ]
  },
  {
   "cell_type": "code",
   "execution_count": 206,
   "id": "18cf497e",
   "metadata": {},
   "outputs": [],
   "source": [
    "auto.hrspwr.fillna(104.256158,inplace=True)"
   ]
  },
  {
   "cell_type": "code",
   "execution_count": 207,
   "id": "c7d1a3b3",
   "metadata": {},
   "outputs": [
    {
     "data": {
      "text/plain": [
       "0"
      ]
     },
     "execution_count": 207,
     "metadata": {},
     "output_type": "execute_result"
    }
   ],
   "source": [
    "auto.hrspwr.isnull().sum()"
   ]
  },
  {
   "cell_type": "code",
   "execution_count": 208,
   "id": "658888ad",
   "metadata": {},
   "outputs": [
    {
     "data": {
      "text/plain": [
       "array([111.      , 154.      , 102.      , 115.      , 110.      ,\n",
       "       140.      , 160.      , 101.      , 121.      , 182.      ,\n",
       "        48.      ,  70.      ,  68.      ,  88.      , 145.      ,\n",
       "        58.      ,  76.      ,  60.      ,  86.      , 100.      ,\n",
       "        78.      ,  90.      , 176.      , 262.      , 135.      ,\n",
       "        84.      ,  64.      , 120.      ,  72.      , 123.      ,\n",
       "       155.      , 184.      , 175.      , 116.      ,  69.      ,\n",
       "        55.      ,  97.      , 152.      , 200.      ,  95.      ,\n",
       "       142.      , 143.      , 207.      , 288.      , 104.256158,\n",
       "        73.      ,  82.      ,  94.      ,  62.      ,  56.      ,\n",
       "       112.      ,  92.      , 161.      , 156.      ,  52.      ,\n",
       "        85.      , 114.      , 162.      , 134.      , 106.      ])"
      ]
     },
     "execution_count": 208,
     "metadata": {},
     "output_type": "execute_result"
    }
   ],
   "source": [
    "auto.hrspwr.unique()"
   ]
  },
  {
   "cell_type": "code",
   "execution_count": 209,
   "id": "c045e802",
   "metadata": {},
   "outputs": [
    {
     "data": {
      "text/plain": [
       "{'whiskers': [<matplotlib.lines.Line2D at 0x2a2ed7e2490>,\n",
       "  <matplotlib.lines.Line2D at 0x2a2ed7e2820>],\n",
       " 'caps': [<matplotlib.lines.Line2D at 0x2a2ed7e2bb0>,\n",
       "  <matplotlib.lines.Line2D at 0x2a2ed7e2f40>],\n",
       " 'boxes': [<matplotlib.lines.Line2D at 0x2a2ed7e2100>],\n",
       " 'medians': [<matplotlib.lines.Line2D at 0x2a2ed7ef310>],\n",
       " 'fliers': [<matplotlib.lines.Line2D at 0x2a2ed7ef6a0>],\n",
       " 'means': []}"
      ]
     },
     "execution_count": 209,
     "metadata": {},
     "output_type": "execute_result"
    },
    {
     "data": {
      "image/png": "[encoded data removed]",
      "text/plain": [
       "<Figure size 432x288 with 1 Axes>"
      ]
     },
     "metadata": {
      "needs_background": "light"
     },
     "output_type": "display_data"
    }
   ],
   "source": [
    "plt.boxplot(auto.hrspwr)"
   ]
  },
  {
   "cell_type": "code",
   "execution_count": 210,
   "id": "2f072e46",
   "metadata": {},
   "outputs": [
    {
     "data": {
      "text/plain": [
       "(array([55., 49., 51., 13., 23.,  8.,  4.,  0.,  1.,  1.]),\n",
       " array([ 48.,  72.,  96., 120., 144., 168., 192., 216., 240., 264., 288.]),\n",
       " <BarContainer object of 10 artists>)"
      ]
     },
     "execution_count": 210,
     "metadata": {},
     "output_type": "execute_result"
    },
    {
     "data": {
      "image/png": "[encoded data removed]",
      "text/plain": [
       "<Figure size 432x288 with 1 Axes>"
      ]
     },
     "metadata": {
      "needs_background": "light"
     },
     "output_type": "display_data"
    }
   ],
   "source": [
    "plt.hist(auto.hrspwr)"
   ]
  },
  {
   "cell_type": "code",
   "execution_count": 211,
   "id": "2c13aa0e",
   "metadata": {},
   "outputs": [
    {
     "data": {
      "text/plain": [
       "ShapiroResult(statistic=0.8850876688957214, pvalue=2.11449850684442e-11)"
      ]
     },
     "execution_count": 211,
     "metadata": {},
     "output_type": "execute_result"
    }
   ],
   "source": [
    "stats.shapiro(auto.hrspwr)"
   ]
  },
  {
   "cell_type": "code",
   "execution_count": 213,
   "id": "71adb416",
   "metadata": {},
   "outputs": [
    {
     "data": {
      "text/plain": [
       "count     203.000000\n",
       "mean     5125.369458\n",
       "std       479.334560\n",
       "min      4150.000000\n",
       "25%      4800.000000\n",
       "50%      5200.000000\n",
       "75%      5500.000000\n",
       "max      6600.000000\n",
       "Name: pkrmp, dtype: float64"
      ]
     },
     "execution_count": 213,
     "metadata": {},
     "output_type": "execute_result"
    }
   ],
   "source": [
    "auto.pkrmp.describe()"
   ]
  },
  {
   "cell_type": "code",
   "execution_count": 214,
   "id": "fae7bc06",
   "metadata": {},
   "outputs": [
    {
     "data": {
      "text/plain": [
       "2"
      ]
     },
     "execution_count": 214,
     "metadata": {},
     "output_type": "execute_result"
    }
   ],
   "source": [
    "auto.pkrmp.isnull().sum()"
   ]
  },
  {
   "cell_type": "code",
   "execution_count": 215,
   "id": "f2121a96",
   "metadata": {},
   "outputs": [],
   "source": [
    "auto.pkrmp.fillna(5125.369458,inplace=True)"
   ]
  },
  {
   "cell_type": "code",
   "execution_count": 216,
   "id": "e276f80c",
   "metadata": {},
   "outputs": [
    {
     "data": {
      "text/plain": [
       "0"
      ]
     },
     "execution_count": 216,
     "metadata": {},
     "output_type": "execute_result"
    }
   ],
   "source": [
    "auto.pkrmp.isnull().sum()"
   ]
  },
  {
   "cell_type": "code",
   "execution_count": 217,
   "id": "43344d54",
   "metadata": {},
   "outputs": [
    {
     "data": {
      "text/plain": [
       "array([5000.      , 5500.      , 5800.      , 4250.      , 5400.      ,\n",
       "       5100.      , 4800.      , 6000.      , 4750.      , 4650.      ,\n",
       "       4200.      , 4350.      , 4500.      , 5200.      , 4150.      ,\n",
       "       5600.      , 5900.      , 5750.      , 5125.369458, 5250.      ,\n",
       "       4900.      , 4400.      , 6600.      , 5300.      ])"
      ]
     },
     "execution_count": 217,
     "metadata": {},
     "output_type": "execute_result"
    }
   ],
   "source": [
    "auto.pkrmp.unique()"
   ]
  },
  {
   "cell_type": "code",
   "execution_count": 218,
   "id": "2aa498cf",
   "metadata": {},
   "outputs": [
    {
     "data": {
      "text/plain": [
       "{'whiskers': [<matplotlib.lines.Line2D at 0x2a2ed8be610>,\n",
       "  <matplotlib.lines.Line2D at 0x2a2ed8be9a0>],\n",
       " 'caps': [<matplotlib.lines.Line2D at 0x2a2ed8bed30>,\n",
       "  <matplotlib.lines.Line2D at 0x2a2ed8c7100>],\n",
       " 'boxes': [<matplotlib.lines.Line2D at 0x2a2ed8be2e0>],\n",
       " 'medians': [<matplotlib.lines.Line2D at 0x2a2ed8c7490>],\n",
       " 'fliers': [<matplotlib.lines.Line2D at 0x2a2ed8c7820>],\n",
       " 'means': []}"
      ]
     },
     "execution_count": 218,
     "metadata": {},
     "output_type": "execute_result"
    },
    {
     "data": {
      "image/png": "[encoded data removed]",
      "text/plain": [
       "<Figure size 432x288 with 1 Axes>"
      ]
     },
     "metadata": {
      "needs_background": "light"
     },
     "output_type": "display_data"
    }
   ],
   "source": [
    "plt.boxplot(auto.pkrmp)"
   ]
  },
  {
   "cell_type": "code",
   "execution_count": 219,
   "id": "120a7e5b",
   "metadata": {},
   "outputs": [
    {
     "data": {
      "text/plain": [
       "(array([17., 10., 41., 33., 31., 51.,  8., 12.,  0.,  2.]),\n",
       " array([4150., 4395., 4640., 4885., 5130., 5375., 5620., 5865., 6110.,\n",
       "        6355., 6600.]),\n",
       " <BarContainer object of 10 artists>)"
      ]
     },
     "execution_count": 219,
     "metadata": {},
     "output_type": "execute_result"
    },
    {
     "data": {
      "image/png": "[encoded data removed]",
      "text/plain": [
       "<Figure size 432x288 with 1 Axes>"
      ]
     },
     "metadata": {
      "needs_background": "light"
     },
     "output_type": "display_data"
    }
   ],
   "source": [
    "plt.hist(auto.pkrmp)"
   ]
  },
  {
   "cell_type": "code",
   "execution_count": 220,
   "id": "37e89a6b",
   "metadata": {},
   "outputs": [
    {
     "data": {
      "text/plain": [
       "ShapiroResult(statistic=0.9705138802528381, pvalue=0.000267903262283653)"
      ]
     },
     "execution_count": 220,
     "metadata": {},
     "output_type": "execute_result"
    }
   ],
   "source": [
    "stats.shapiro(auto.pkrmp)"
   ]
  },
  {
   "cell_type": "code",
   "execution_count": 221,
   "id": "07b761e1",
   "metadata": {},
   "outputs": [
    {
     "data": {
      "text/plain": [
       "count    205.000000\n",
       "mean      25.219512\n",
       "std        6.542142\n",
       "min       13.000000\n",
       "25%       19.000000\n",
       "50%       24.000000\n",
       "75%       30.000000\n",
       "max       49.000000\n",
       "Name: citympg, dtype: float64"
      ]
     },
     "execution_count": 221,
     "metadata": {},
     "output_type": "execute_result"
    }
   ],
   "source": [
    "auto.citympg.describe()"
   ]
  },
  {
   "cell_type": "code",
   "execution_count": 222,
   "id": "3f2de396",
   "metadata": {},
   "outputs": [
    {
     "data": {
      "text/plain": [
       "0"
      ]
     },
     "execution_count": 222,
     "metadata": {},
     "output_type": "execute_result"
    }
   ],
   "source": [
    "auto.citympg.isnull().sum()"
   ]
  },
  {
   "cell_type": "code",
   "execution_count": 223,
   "id": "7eed4418",
   "metadata": {},
   "outputs": [
    {
     "data": {
      "text/plain": [
       "array([21, 19, 24, 18, 17, 16, 23, 20, 15, 47, 38, 37, 31, 49, 30, 27, 25,\n",
       "       13, 26, 36, 22, 14, 45, 28, 32, 35, 34, 29, 33], dtype=int64)"
      ]
     },
     "execution_count": 223,
     "metadata": {},
     "output_type": "execute_result"
    }
   ],
   "source": [
    "auto.citympg.unique()"
   ]
  },
  {
   "cell_type": "code",
   "execution_count": 224,
   "id": "ce617bc7",
   "metadata": {},
   "outputs": [
    {
     "data": {
      "text/plain": [
       "{'whiskers': [<matplotlib.lines.Line2D at 0x2a2ed97ff40>,\n",
       "  <matplotlib.lines.Line2D at 0x2a2ed98b310>],\n",
       " 'caps': [<matplotlib.lines.Line2D at 0x2a2ed98b6a0>,\n",
       "  <matplotlib.lines.Line2D at 0x2a2ed98ba30>],\n",
       " 'boxes': [<matplotlib.lines.Line2D at 0x2a2ed97fd60>],\n",
       " 'medians': [<matplotlib.lines.Line2D at 0x2a2ed98bdc0>],\n",
       " 'fliers': [<matplotlib.lines.Line2D at 0x2a2ed995190>],\n",
       " 'means': []}"
      ]
     },
     "execution_count": 224,
     "metadata": {},
     "output_type": "execute_result"
    },
    {
     "data": {
      "image/png": "[encoded data removed]",
      "text/plain": [
       "<Figure size 432x288 with 1 Axes>"
      ]
     },
     "metadata": {
      "needs_background": "light"
     },
     "output_type": "display_data"
    }
   ],
   "source": [
    "plt.boxplot(auto.citympg)"
   ]
  },
  {
   "cell_type": "code",
   "execution_count": 225,
   "id": "df52b4b0",
   "metadata": {},
   "outputs": [
    {
     "data": {
      "text/plain": [
       "(array([12., 46., 24., 56., 18., 31., 15.,  0.,  1.,  2.]),\n",
       " array([13. , 16.6, 20.2, 23.8, 27.4, 31. , 34.6, 38.2, 41.8, 45.4, 49. ]),\n",
       " <BarContainer object of 10 artists>)"
      ]
     },
     "execution_count": 225,
     "metadata": {},
     "output_type": "execute_result"
    },
    {
     "data": {
      "image/png": "[encoded data removed]",
      "text/plain": [
       "<Figure size 432x288 with 1 Axes>"
      ]
     },
     "metadata": {
      "needs_background": "light"
     },
     "output_type": "display_data"
    }
   ],
   "source": [
    "plt.hist(auto.citympg)"
   ]
  },
  {
   "cell_type": "code",
   "execution_count": 226,
   "id": "96d450e6",
   "metadata": {},
   "outputs": [
    {
     "data": {
      "text/plain": [
       "ShapiroResult(statistic=0.9572238922119141, pvalue=7.825866305211093e-06)"
      ]
     },
     "execution_count": 226,
     "metadata": {},
     "output_type": "execute_result"
    }
   ],
   "source": [
    "stats.shapiro(auto.citympg)"
   ]
  },
  {
   "cell_type": "code",
   "execution_count": 227,
   "id": "fd34003a",
   "metadata": {},
   "outputs": [
    {
     "data": {
      "text/plain": [
       "count    205.000000\n",
       "mean      30.751220\n",
       "std        6.886443\n",
       "min       16.000000\n",
       "25%       25.000000\n",
       "50%       30.000000\n",
       "75%       34.000000\n",
       "max       54.000000\n",
       "Name: highmpg, dtype: float64"
      ]
     },
     "execution_count": 227,
     "metadata": {},
     "output_type": "execute_result"
    }
   ],
   "source": [
    "auto.highmpg.describe()"
   ]
  },
  {
   "cell_type": "code",
   "execution_count": 228,
   "id": "ca494608",
   "metadata": {},
   "outputs": [
    {
     "data": {
      "text/plain": [
       "0"
      ]
     },
     "execution_count": 228,
     "metadata": {},
     "output_type": "execute_result"
    }
   ],
   "source": [
    "auto.highmpg.isnull().sum()"
   ]
  },
  {
   "cell_type": "code",
   "execution_count": 229,
   "id": "09f4e17c",
   "metadata": {},
   "outputs": [
    {
     "data": {
      "text/plain": [
       "array([27, 26, 30, 22, 25, 20, 29, 28, 53, 43, 41, 38, 24, 54, 42, 34, 33,\n",
       "       31, 19, 17, 23, 32, 39, 18, 16, 37, 50, 36, 47, 46], dtype=int64)"
      ]
     },
     "execution_count": 229,
     "metadata": {},
     "output_type": "execute_result"
    }
   ],
   "source": [
    "auto.highmpg.unique()"
   ]
  },
  {
   "cell_type": "code",
   "execution_count": 230,
   "id": "0afb0e64",
   "metadata": {},
   "outputs": [
    {
     "data": {
      "text/plain": [
       "{'whiskers': [<matplotlib.lines.Line2D at 0x2a2eda5c310>,\n",
       "  <matplotlib.lines.Line2D at 0x2a2eda5c6a0>],\n",
       " 'caps': [<matplotlib.lines.Line2D at 0x2a2eda5ca30>,\n",
       "  <matplotlib.lines.Line2D at 0x2a2eda5cdc0>],\n",
       " 'boxes': [<matplotlib.lines.Line2D at 0x2a2eda4cf40>],\n",
       " 'medians': [<matplotlib.lines.Line2D at 0x2a2eda68190>],\n",
       " 'fliers': [<matplotlib.lines.Line2D at 0x2a2eda68520>],\n",
       " 'means': []}"
      ]
     },
     "execution_count": 230,
     "metadata": {},
     "output_type": "execute_result"
    },
    {
     "data": {
      "image/png": "[encoded data removed]",
      "text/plain": [
       "<Figure size 432x288 with 1 Axes>"
      ]
     },
     "metadata": {
      "needs_background": "light"
     },
     "output_type": "display_data"
    }
   ],
   "source": [
    "plt.boxplot(auto.highmpg)"
   ]
  },
  {
   "cell_type": "code",
   "execution_count": 231,
   "id": "75c8bdd3",
   "metadata": {},
   "outputs": [
    {
     "data": {
      "text/plain": [
       "(array([ 7., 17., 44., 47., 39., 32.,  8.,  6.,  3.,  2.]),\n",
       " array([16. , 19.8, 23.6, 27.4, 31.2, 35. , 38.8, 42.6, 46.4, 50.2, 54. ]),\n",
       " <BarContainer object of 10 artists>)"
      ]
     },
     "execution_count": 231,
     "metadata": {},
     "output_type": "execute_result"
    },
    {
     "data": {
      "image/png": "[encoded data removed]",
      "text/plain": [
       "<Figure size 432x288 with 1 Axes>"
      ]
     },
     "metadata": {
      "needs_background": "light"
     },
     "output_type": "display_data"
    }
   ],
   "source": [
    "plt.hist(auto.highmpg)"
   ]
  },
  {
   "cell_type": "code",
   "execution_count": 232,
   "id": "932c2613",
   "metadata": {},
   "outputs": [
    {
     "data": {
      "text/plain": [
       "ShapiroResult(statistic=0.9735103845596313, pvalue=0.0006515368004329503)"
      ]
     },
     "execution_count": 232,
     "metadata": {},
     "output_type": "execute_result"
    }
   ],
   "source": [
    "stats.shapiro(auto.highmpg)"
   ]
  },
  {
   "cell_type": "code",
   "execution_count": 233,
   "id": "536ae405",
   "metadata": {},
   "outputs": [
    {
     "data": {
      "text/plain": [
       "count      201.000000\n",
       "mean     13207.129353\n",
       "std       7947.066342\n",
       "min       5118.000000\n",
       "25%       7775.000000\n",
       "50%      10295.000000\n",
       "75%      16500.000000\n",
       "max      45400.000000\n",
       "Name: price, dtype: float64"
      ]
     },
     "execution_count": 233,
     "metadata": {},
     "output_type": "execute_result"
    }
   ],
   "source": [
    "auto.price.describe()"
   ]
  },
  {
   "cell_type": "code",
   "execution_count": 234,
   "id": "457d25b5",
   "metadata": {},
   "outputs": [
    {
     "data": {
      "text/plain": [
       "4"
      ]
     },
     "execution_count": 234,
     "metadata": {},
     "output_type": "execute_result"
    }
   ],
   "source": [
    "auto.price.isnull().sum()"
   ]
  },
  {
   "cell_type": "code",
   "execution_count": 235,
   "id": "24795d0b",
   "metadata": {},
   "outputs": [],
   "source": [
    "auto.price.fillna(13207.129353,inplace=True)"
   ]
  },
  {
   "cell_type": "code",
   "execution_count": 236,
   "id": "2a332104",
   "metadata": {},
   "outputs": [
    {
     "data": {
      "text/plain": [
       "0"
      ]
     },
     "execution_count": 236,
     "metadata": {},
     "output_type": "execute_result"
    }
   ],
   "source": [
    "auto.price.isnull().sum()"
   ]
  },
  {
   "cell_type": "code",
   "execution_count": 237,
   "id": "6d44d96b",
   "metadata": {},
   "outputs": [
    {
     "data": {
      "text/plain": [
       "array([13495.      , 16500.      , 13950.      , 17450.      ,\n",
       "       15250.      , 17710.      , 18920.      , 23875.      ,\n",
       "       13207.129353, 16430.      , 16925.      , 20970.      ,\n",
       "       21105.      , 24565.      , 30760.      , 41315.      ,\n",
       "       36880.      ,  5151.      ,  6295.      ,  6575.      ,\n",
       "        5572.      ,  6377.      ,  7957.      ,  6229.      ,\n",
       "        6692.      ,  7609.      ,  8558.      ,  8921.      ,\n",
       "       12964.      ,  6479.      ,  6855.      ,  5399.      ,\n",
       "        6529.      ,  7129.      ,  7295.      ,  7895.      ,\n",
       "        9095.      ,  8845.      , 10295.      , 12945.      ,\n",
       "       10345.      ,  6785.      , 11048.      , 32250.      ,\n",
       "       35550.      , 36000.      ,  5195.      ,  6095.      ,\n",
       "        6795.      ,  6695.      ,  7395.      , 10945.      ,\n",
       "       11845.      , 13645.      , 15645.      ,  8495.      ,\n",
       "       10595.      , 10245.      , 10795.      , 11245.      ,\n",
       "       18280.      , 18344.      , 25552.      , 28248.      ,\n",
       "       28176.      , 31600.      , 34184.      , 35056.      ,\n",
       "       40960.      , 45400.      , 16503.      ,  5389.      ,\n",
       "        6189.      ,  6669.      ,  7689.      ,  9959.      ,\n",
       "        8499.      , 12629.      , 14869.      , 14489.      ,\n",
       "        6989.      ,  8189.      ,  9279.      ,  5499.      ,\n",
       "        7099.      ,  6649.      ,  6849.      ,  7349.      ,\n",
       "        7299.      ,  7799.      ,  7499.      ,  7999.      ,\n",
       "        8249.      ,  8949.      ,  9549.      , 13499.      ,\n",
       "       14399.      , 17199.      , 19699.      , 18399.      ,\n",
       "       11900.      , 13200.      , 12440.      , 13860.      ,\n",
       "       15580.      , 16900.      , 16695.      , 17075.      ,\n",
       "       16630.      , 17950.      , 18150.      , 12764.      ,\n",
       "       22018.      , 32528.      , 34028.      , 37028.      ,\n",
       "        9295.      ,  9895.      , 11850.      , 12170.      ,\n",
       "       15040.      , 15510.      , 18620.      ,  5118.      ,\n",
       "        7053.      ,  7603.      ,  7126.      ,  7775.      ,\n",
       "        9960.      ,  9233.      , 11259.      ,  7463.      ,\n",
       "       10198.      ,  8013.      , 11694.      ,  5348.      ,\n",
       "        6338.      ,  6488.      ,  6918.      ,  7898.      ,\n",
       "        8778.      ,  6938.      ,  7198.      ,  7788.      ,\n",
       "        7738.      ,  8358.      ,  9258.      ,  8058.      ,\n",
       "        8238.      ,  9298.      ,  9538.      ,  8449.      ,\n",
       "        9639.      ,  9989.      , 11199.      , 11549.      ,\n",
       "       17669.      ,  8948.      , 10698.      ,  9988.      ,\n",
       "       10898.      , 11248.      , 16558.      , 15998.      ,\n",
       "       15690.      , 15750.      ,  7975.      ,  7995.      ,\n",
       "        8195.      ,  9495.      ,  9995.      , 11595.      ,\n",
       "        9980.      , 13295.      , 13845.      , 12290.      ,\n",
       "       12940.      , 13415.      , 15985.      , 16515.      ,\n",
       "       18420.      , 18950.      , 16845.      , 19045.      ,\n",
       "       21485.      , 22470.      , 22625.      ])"
      ]
     },
     "execution_count": 237,
     "metadata": {},
     "output_type": "execute_result"
    }
   ],
   "source": [
    "auto.price.unique()"
   ]
  },
  {
   "cell_type": "code",
   "execution_count": 238,
   "id": "0f214660",
   "metadata": {},
   "outputs": [
    {
     "data": {
      "text/plain": [
       "{'whiskers': [<matplotlib.lines.Line2D at 0x2a2edb3be20>,\n",
       "  <matplotlib.lines.Line2D at 0x2a2edb4e1f0>],\n",
       " 'caps': [<matplotlib.lines.Line2D at 0x2a2edb4e580>,\n",
       "  <matplotlib.lines.Line2D at 0x2a2edb4e910>],\n",
       " 'boxes': [<matplotlib.lines.Line2D at 0x2a2edb3ba90>],\n",
       " 'medians': [<matplotlib.lines.Line2D at 0x2a2edb4eca0>],\n",
       " 'fliers': [<matplotlib.lines.Line2D at 0x2a2edb58070>],\n",
       " 'means': []}"
      ]
     },
     "execution_count": 238,
     "metadata": {},
     "output_type": "execute_result"
    },
    {
     "data": {
      "image/png": "[encoded data removed]",
      "text/plain": [
       "<Figure size 432x288 with 1 Axes>"
      ]
     },
     "metadata": {
      "needs_background": "light"
     },
     "output_type": "display_data"
    }
   ],
   "source": [
    "plt.boxplot(auto.price)"
   ]
  },
  {
   "cell_type": "code",
   "execution_count": 239,
   "id": "1f548b93",
   "metadata": {},
   "outputs": [
    {
     "data": {
      "text/plain": [
       "(array([81., 45., 39., 17.,  6.,  3.,  4.,  7.,  2.,  1.]),\n",
       " array([ 5118. ,  9146.2, 13174.4, 17202.6, 21230.8, 25259. , 29287.2,\n",
       "        33315.4, 37343.6, 41371.8, 45400. ]),\n",
       " <BarContainer object of 10 artists>)"
      ]
     },
     "execution_count": 239,
     "metadata": {},
     "output_type": "execute_result"
    },
    {
     "data": {
      "image/png": "[encoded data removed]",
      "text/plain": [
       "<Figure size 432x288 with 1 Axes>"
      ]
     },
     "metadata": {
      "needs_background": "light"
     },
     "output_type": "display_data"
    }
   ],
   "source": [
    "plt.hist(auto.price)"
   ]
  },
  {
   "cell_type": "code",
   "execution_count": 240,
   "id": "09239b04",
   "metadata": {},
   "outputs": [
    {
     "data": {
      "text/plain": [
       "ShapiroResult(statistic=0.7997004985809326, pvalue=1.691838515494677e-15)"
      ]
     },
     "execution_count": 240,
     "metadata": {},
     "output_type": "execute_result"
    }
   ],
   "source": [
    "stats.shapiro(auto.price)"
   ]
  },
  {
   "cell_type": "code",
   "execution_count": 242,
   "id": "7f0a286c",
   "metadata": {},
   "outputs": [],
   "source": [
    "Data=auto.drop(['symboling','make','fuel','aspriation','doors','body','wheels','engineloc','egntype','cylidr','fuelsystem'],axis=1)"
   ]
  },
  {
   "cell_type": "code",
   "execution_count": 243,
   "id": "795800a6",
   "metadata": {},
   "outputs": [
    {
     "data": {
      "text/plain": [
       "Index(['normloss', 'whlbase', 'length', 'width', 'height', 'curbwgt',\n",
       "       'egnsize', 'bore', 'stroke', 'cmprs_ation', 'hrspwr', 'pkrmp',\n",
       "       'citympg', 'highmpg', 'price'],\n",
       "      dtype='object')"
      ]
     },
     "execution_count": 243,
     "metadata": {},
     "output_type": "execute_result"
    }
   ],
   "source": [
    "Data.columns"
   ]
  },
  {
   "cell_type": "markdown",
   "id": "cacfc93c",
   "metadata": {},
   "source": [
    "<h3>Pearson Test</h3>"
   ]
  },
  {
   "cell_type": "code",
   "execution_count": 248,
   "id": "c958968b",
   "metadata": {},
   "outputs": [
    {
     "name": "stdout",
     "output_type": "stream",
     "text": [
      "(0.1339987342927434, 0.05543057826318259)\n"
     ]
    }
   ],
   "source": [
    "from scipy.stats import pearsonr\n",
    "strength=pearsonr(Data.normloss,Data.price)\n",
    "print(strength)"
   ]
  },
  {
   "cell_type": "code",
   "execution_count": 245,
   "id": "f1cf5b58",
   "metadata": {},
   "outputs": [
    {
     "name": "stdout",
     "output_type": "stream",
     "text": [
      "(0.5831681499791512, 4.5276255455256544e-20)\n"
     ]
    }
   ],
   "source": [
    "strength=pearsonr(Data.whlbase,Data.price)\n",
    "print(strength)"
   ]
  },
  {
   "cell_type": "code",
   "execution_count": 246,
   "id": "41a9cd24",
   "metadata": {},
   "outputs": [
    {
     "name": "stdout",
     "output_type": "stream",
     "text": [
      "(0.6829862954389818, 1.649887328966639e-29)\n"
     ]
    }
   ],
   "source": [
    "strength=pearsonr(Data.length,Data.price)\n",
    "print(strength)"
   ]
  },
  {
   "cell_type": "code",
   "execution_count": 249,
   "id": "831e0e06",
   "metadata": {},
   "outputs": [
    {
     "name": "stdout",
     "output_type": "stream",
     "text": [
      "(0.7286988175929279, 3.214520484065366e-35)\n"
     ]
    }
   ],
   "source": [
    "strength=pearsonr(Data.width,Data.price)\n",
    "print(strength)"
   ]
  },
  {
   "cell_type": "code",
   "execution_count": 250,
   "id": "976c620b",
   "metadata": {},
   "outputs": [
    {
     "name": "stdout",
     "output_type": "stream",
     "text": [
      "(0.13438751871101878, 0.05471982048333642)\n"
     ]
    }
   ],
   "source": [
    "strength=pearsonr(Data.height,Data.price)\n",
    "print(strength)"
   ]
  },
  {
   "cell_type": "code",
   "execution_count": 252,
   "id": "3febb4e7",
   "metadata": {},
   "outputs": [
    {
     "name": "stdout",
     "output_type": "stream",
     "text": [
      "(0.8208247333547347, 2.8663321070187436e-51)\n"
     ]
    }
   ],
   "source": [
    "strength=pearsonr(Data.curbwgt,Data.price)\n",
    "print(strength)"
   ]
  },
  {
   "cell_type": "code",
   "execution_count": 253,
   "id": "cdb88045",
   "metadata": {},
   "outputs": [
    {
     "name": "stdout",
     "output_type": "stream",
     "text": [
      "(0.8617522436859497, 9.669661923782634e-62)\n"
     ]
    }
   ],
   "source": [
    "strength=pearsonr(Data.egnsize,Data.price)\n",
    "print(strength)"
   ]
  },
  {
   "cell_type": "code",
   "execution_count": 254,
   "id": "f7e9b3ba",
   "metadata": {},
   "outputs": [
    {
     "name": "stdout",
     "output_type": "stream",
     "text": [
      "(0.5323000199585453, 2.1398305142063517e-16)\n"
     ]
    }
   ],
   "source": [
    "strength=pearsonr(Data.bore,Data.price)\n",
    "print(strength)"
   ]
  },
  {
   "cell_type": "code",
   "execution_count": 255,
   "id": "553a52f1",
   "metadata": {},
   "outputs": [
    {
     "name": "stdout",
     "output_type": "stream",
     "text": [
      "(0.08209529537133144, 0.24191456955577154)\n"
     ]
    }
   ],
   "source": [
    "strength=pearsonr(Data.stroke,Data.price)\n",
    "print(strength)"
   ]
  },
  {
   "cell_type": "code",
   "execution_count": 256,
   "id": "9b37b568",
   "metadata": {},
   "outputs": [
    {
     "name": "stdout",
     "output_type": "stream",
     "text": [
      "(0.07099036277917581, 0.31178249194796)\n"
     ]
    }
   ],
   "source": [
    "strength=pearsonr(Data.cmprs_ation,Data.price)\n",
    "print(strength)"
   ]
  },
  {
   "cell_type": "code",
   "execution_count": 257,
   "id": "4a8fcf4e",
   "metadata": {},
   "outputs": [
    {
     "name": "stdout",
     "output_type": "stream",
     "text": [
      "(0.7579169537076744, 1.6076704223961165e-39)\n"
     ]
    }
   ],
   "source": [
    "strength=pearsonr(Data.hrspwr,Data.price)\n",
    "print(strength)"
   ]
  },
  {
   "cell_type": "code",
   "execution_count": 258,
   "id": "c63a647e",
   "metadata": {},
   "outputs": [
    {
     "name": "stdout",
     "output_type": "stream",
     "text": [
      "(-0.10085406591095525, 0.15019246954531384)\n"
     ]
    }
   ],
   "source": [
    "strength=pearsonr(Data.pkrmp,Data.price)\n",
    "print(strength)"
   ]
  },
  {
   "cell_type": "code",
   "execution_count": 259,
   "id": "82a7f681",
   "metadata": {},
   "outputs": [
    {
     "name": "stdout",
     "output_type": "stream",
     "text": [
      "(-0.6674492651601811, 8.463700497351762e-28)\n"
     ]
    }
   ],
   "source": [
    "strength=pearsonr(Data.citympg,Data.price)\n",
    "print(strength)"
   ]
  },
  {
   "cell_type": "code",
   "execution_count": 260,
   "id": "979da50a",
   "metadata": {},
   "outputs": [
    {
     "name": "stdout",
     "output_type": "stream",
     "text": [
      "(-0.6905257341186237, 2.2324674056721096e-30)\n"
     ]
    }
   ],
   "source": [
    "strength=pearsonr(Data.highmpg,Data.price)\n",
    "print(strength)"
   ]
  },
  {
   "cell_type": "code",
   "execution_count": 263,
   "id": "f426d30f",
   "metadata": {},
   "outputs": [
    {
     "name": "stdout",
     "output_type": "stream",
     "text": [
      "0      13495.0\n",
      "1      16500.0\n",
      "2      16500.0\n",
      "3      13950.0\n",
      "4      17450.0\n",
      "        ...   \n",
      "200    16845.0\n",
      "201    19045.0\n",
      "202    21485.0\n",
      "203    22470.0\n",
      "204    22625.0\n",
      "Name: price, Length: 205, dtype: float64\n"
     ]
    }
   ],
   "source": [
    "y=Data.price\n",
    "print(y)"
   ]
  },
  {
   "cell_type": "code",
   "execution_count": 264,
   "id": "d61bd565",
   "metadata": {},
   "outputs": [
    {
     "name": "stdout",
     "output_type": "stream",
     "text": [
      "     normloss  whlbase  length  width  height  curbwgt  egnsize  bore  stroke  \\\n",
      "0       122.0     88.6   168.8   64.1    48.8     2548      130  3.47    2.68   \n",
      "1       122.0     88.6   168.8   64.1    48.8     2548      130  3.47    2.68   \n",
      "2       122.0     94.5   171.2   65.5    52.4     2823      152  2.68    3.47   \n",
      "3       164.0     99.8   176.6   66.2    54.3     2337      109  3.19    3.40   \n",
      "4       164.0     99.4   176.6   66.4    54.3     2824      136  3.19    3.40   \n",
      "..        ...      ...     ...    ...     ...      ...      ...   ...     ...   \n",
      "200      95.0    109.1   188.8   68.9    55.5     2952      141  3.78    3.15   \n",
      "201      95.0    109.1   188.8   68.8    55.5     3049      141  3.78    3.15   \n",
      "202      95.0    109.1   188.8   68.9    55.5     3012      173  3.58    2.87   \n",
      "203      95.0    109.1   188.8   68.9    55.5     3217      145  3.01    3.40   \n",
      "204      95.0    109.1   188.8   68.9    55.5     3062      141  3.78    3.15   \n",
      "\n",
      "     cmprs_ation  hrspwr   pkrmp  citympg  highmpg  \n",
      "0            9.0   111.0  5000.0       21       27  \n",
      "1            9.0   111.0  5000.0       21       27  \n",
      "2            9.0   154.0  5000.0       19       26  \n",
      "3           10.0   102.0  5500.0       24       30  \n",
      "4            8.0   115.0  5500.0       18       22  \n",
      "..           ...     ...     ...      ...      ...  \n",
      "200          9.5   114.0  5400.0       23       28  \n",
      "201          8.7   160.0  5300.0       19       25  \n",
      "202          8.8   134.0  5500.0       18       23  \n",
      "203         23.0   106.0  4800.0       26       27  \n",
      "204          9.5   114.0  5400.0       19       25  \n",
      "\n",
      "[205 rows x 14 columns]\n"
     ]
    }
   ],
   "source": [
    "x=Data.drop('price',axis=1)\n",
    "print(x)"
   ]
  },
  {
   "cell_type": "code",
   "execution_count": 268,
   "id": "2b9ce9f4",
   "metadata": {},
   "outputs": [],
   "source": [
    "x.drop(['normloss','length','height','bore','stroke','cmprs_ation','pkrmp','citympg','highmpg'],axis=1,inplace=True)"
   ]
  },
  {
   "cell_type": "code",
   "execution_count": 269,
   "id": "d9612dad",
   "metadata": {},
   "outputs": [
    {
     "name": "stdout",
     "output_type": "stream",
     "text": [
      "     whlbase  width  curbwgt  egnsize  hrspwr\n",
      "0       88.6   64.1     2548      130   111.0\n",
      "1       88.6   64.1     2548      130   111.0\n",
      "2       94.5   65.5     2823      152   154.0\n",
      "3       99.8   66.2     2337      109   102.0\n",
      "4       99.4   66.4     2824      136   115.0\n",
      "..       ...    ...      ...      ...     ...\n",
      "200    109.1   68.9     2952      141   114.0\n",
      "201    109.1   68.8     3049      141   160.0\n",
      "202    109.1   68.9     3012      173   134.0\n",
      "203    109.1   68.9     3217      145   106.0\n",
      "204    109.1   68.9     3062      141   114.0\n",
      "\n",
      "[205 rows x 5 columns]\n"
     ]
    }
   ],
   "source": [
    "print(x)"
   ]
  },
  {
   "cell_type": "code",
   "execution_count": 270,
   "id": "47d338df",
   "metadata": {},
   "outputs": [
    {
     "data": {
      "text/plain": [
       "(205,)"
      ]
     },
     "execution_count": 270,
     "metadata": {},
     "output_type": "execute_result"
    }
   ],
   "source": [
    "y.shape"
   ]
  },
  {
   "cell_type": "code",
   "execution_count": 271,
   "id": "5860f877",
   "metadata": {},
   "outputs": [
    {
     "data": {
      "text/plain": [
       "(205, 5)"
      ]
     },
     "execution_count": 271,
     "metadata": {},
     "output_type": "execute_result"
    }
   ],
   "source": [
    "x.shape"
   ]
  },
  {
   "cell_type": "code",
   "execution_count": 272,
   "id": "3f23689b",
   "metadata": {},
   "outputs": [
    {
     "name": "stdout",
     "output_type": "stream",
     "text": [
      "0      13495.0\n",
      "1      16500.0\n",
      "2      16500.0\n",
      "3      13950.0\n",
      "4      17450.0\n",
      "        ...   \n",
      "159     7788.0\n",
      "160     7738.0\n",
      "161     8358.0\n",
      "162     9258.0\n",
      "163     8058.0\n",
      "Name: price, Length: 164, dtype: float64\n"
     ]
    }
   ],
   "source": [
    "train_y=y.iloc[0:164]\n",
    "print(train_y)"
   ]
  },
  {
   "cell_type": "code",
   "execution_count": 273,
   "id": "d6cc13d1",
   "metadata": {},
   "outputs": [
    {
     "name": "stdout",
     "output_type": "stream",
     "text": [
      "164     8238.0\n",
      "165     9298.0\n",
      "166     9538.0\n",
      "167     8449.0\n",
      "168     9639.0\n",
      "169     9989.0\n",
      "170    11199.0\n",
      "171    11549.0\n",
      "172    17669.0\n",
      "173     8948.0\n",
      "174    10698.0\n",
      "175     9988.0\n",
      "176    10898.0\n",
      "177    11248.0\n",
      "178    16558.0\n",
      "179    15998.0\n",
      "180    15690.0\n",
      "181    15750.0\n",
      "182     7775.0\n",
      "183     7975.0\n",
      "184     7995.0\n",
      "185     8195.0\n",
      "186     8495.0\n",
      "187     9495.0\n",
      "188     9995.0\n",
      "189    11595.0\n",
      "190     9980.0\n",
      "191    13295.0\n",
      "192    13845.0\n",
      "193    12290.0\n",
      "194    12940.0\n",
      "195    13415.0\n",
      "196    15985.0\n",
      "197    16515.0\n",
      "198    18420.0\n",
      "199    18950.0\n",
      "200    16845.0\n",
      "201    19045.0\n",
      "202    21485.0\n",
      "203    22470.0\n",
      "204    22625.0\n",
      "Name: price, dtype: float64\n"
     ]
    }
   ],
   "source": [
    "test_y=y.iloc[164:]\n",
    "print(test_y)"
   ]
  },
  {
   "cell_type": "code",
   "execution_count": 274,
   "id": "84bbfe15",
   "metadata": {},
   "outputs": [
    {
     "name": "stdout",
     "output_type": "stream",
     "text": [
      "     whlbase  width  curbwgt  egnsize  hrspwr\n",
      "0       88.6   64.1     2548      130   111.0\n",
      "1       88.6   64.1     2548      130   111.0\n",
      "2       94.5   65.5     2823      152   154.0\n",
      "3       99.8   66.2     2337      109   102.0\n",
      "4       99.4   66.4     2824      136   115.0\n",
      "..       ...    ...      ...      ...     ...\n",
      "159     95.7   64.4     2275      110    56.0\n",
      "160     95.7   64.4     2094       98    70.0\n",
      "161     95.7   64.4     2122       98    70.0\n",
      "162     95.7   64.4     2140       98    70.0\n",
      "163     94.5   64.0     2169       98    70.0\n",
      "\n",
      "[164 rows x 5 columns]\n"
     ]
    }
   ],
   "source": [
    "train_x=x.iloc[0:164]\n",
    "print(train_x)"
   ]
  },
  {
   "cell_type": "code",
   "execution_count": 275,
   "id": "bbe75d10",
   "metadata": {},
   "outputs": [
    {
     "name": "stdout",
     "output_type": "stream",
     "text": [
      "     whlbase  width  curbwgt  egnsize  hrspwr\n",
      "164     94.5   64.0     2204       98    70.0\n",
      "165     94.5   64.0     2265       98   112.0\n",
      "166     94.5   64.0     2300       98   112.0\n",
      "167     98.4   65.6     2540      146   116.0\n",
      "168     98.4   65.6     2536      146   116.0\n",
      "169     98.4   65.6     2551      146   116.0\n",
      "170     98.4   65.6     2679      146   116.0\n",
      "171     98.4   65.6     2714      146   116.0\n",
      "172     98.4   65.6     2975      146   116.0\n",
      "173    102.4   66.5     2326      122    92.0\n",
      "174    102.4   66.5     2480      110    73.0\n",
      "175    102.4   66.5     2414      122    92.0\n",
      "176    102.4   66.5     2414      122    92.0\n",
      "177    102.4   66.5     2458      122    92.0\n",
      "178    102.9   67.7     2976      171   161.0\n",
      "179    102.9   67.7     3016      171   161.0\n",
      "180    104.5   66.5     3131      171   156.0\n",
      "181    104.5   66.5     3151      161   156.0\n",
      "182     97.3   65.5     2261       97    52.0\n",
      "183     97.3   65.5     2209      109    85.0\n",
      "184     97.3   65.5     2264       97    52.0\n",
      "185     97.3   65.5     2212      109    85.0\n",
      "186     97.3   65.5     2275      109    85.0\n",
      "187     97.3   65.5     2319       97    68.0\n",
      "188     97.3   65.5     2300      109   100.0\n",
      "189     94.5   64.2     2254      109    90.0\n",
      "190     94.5   64.0     2221      109    90.0\n",
      "191    100.4   66.9     2661      136   110.0\n",
      "192    100.4   66.9     2579       97    68.0\n",
      "193    100.4   66.9     2563      109    88.0\n",
      "194    104.3   67.2     2912      141   114.0\n",
      "195    104.3   67.2     3034      141   114.0\n",
      "196    104.3   67.2     2935      141   114.0\n",
      "197    104.3   67.2     3042      141   114.0\n",
      "198    104.3   67.2     3045      130   162.0\n",
      "199    104.3   67.2     3157      130   162.0\n",
      "200    109.1   68.9     2952      141   114.0\n",
      "201    109.1   68.8     3049      141   160.0\n",
      "202    109.1   68.9     3012      173   134.0\n",
      "203    109.1   68.9     3217      145   106.0\n",
      "204    109.1   68.9     3062      141   114.0\n"
     ]
    }
   ],
   "source": [
    "test_x=x.iloc[164:]\n",
    "print(test_x)"
   ]
  },
  {
   "cell_type": "code",
   "execution_count": 276,
   "id": "2aa063bb",
   "metadata": {},
   "outputs": [
    {
     "name": "stderr",
     "output_type": "stream",
     "text": [
      "C:\\Users\\Admin\\anaconda3\\lib\\site-packages\\statsmodels\\tsa\\tsatools.py:142: FutureWarning: In a future version of pandas all arguments of concat except for the argument 'objs' will be keyword-only\n",
      "  x = pd.concat(x[::order], 1)\n"
     ]
    }
   ],
   "source": [
    "import statsmodels.api as sm\n",
    "x=sm.add_constant(x)"
   ]
  },
  {
   "cell_type": "code",
   "execution_count": 277,
   "id": "bf3ec715",
   "metadata": {},
   "outputs": [
    {
     "data": {
      "text/plain": [
       "(205, 6)"
      ]
     },
     "execution_count": 277,
     "metadata": {},
     "output_type": "execute_result"
    }
   ],
   "source": [
    "x.shape"
   ]
  },
  {
   "cell_type": "code",
   "execution_count": 278,
   "id": "61f0ce7f",
   "metadata": {},
   "outputs": [],
   "source": [
    "model=sm.OLS(train_y,train_x).fit()"
   ]
  },
  {
   "cell_type": "code",
   "execution_count": 279,
   "id": "a9ad03fc",
   "metadata": {
    "scrolled": true
   },
   "outputs": [
    {
     "data": {
      "text/html": [
       "<table class=\"simpletable\">\n",
       "<caption>OLS Regression Results</caption>\n",
       "<tr>\n",
       "  <th>Dep. Variable:</th>          <td>price</td>      <th>  R-squared (uncentered):</th>      <td>   0.940</td>\n",
       "</tr>\n",
       "<tr>\n",
       "  <th>Model:</th>                   <td>OLS</td>       <th>  Adj. R-squared (uncentered):</th> <td>   0.938</td>\n",
       "</tr>\n",
       "<tr>\n",
       "  <th>Method:</th>             <td>Least Squares</td>  <th>  F-statistic:       </th>          <td>   500.5</td>\n",
       "</tr>\n",
       "<tr>\n",
       "  <th>Date:</th>             <td>Sun, 03 Apr 2022</td> <th>  Prob (F-statistic):</th>          <td>2.57e-95</td>\n",
       "</tr>\n",
       "<tr>\n",
       "  <th>Time:</th>                 <td>17:49:43</td>     <th>  Log-Likelihood:    </th>          <td> -1586.8</td>\n",
       "</tr>\n",
       "<tr>\n",
       "  <th>No. Observations:</th>      <td>   164</td>      <th>  AIC:               </th>          <td>   3184.</td>\n",
       "</tr>\n",
       "<tr>\n",
       "  <th>Df Residuals:</th>          <td>   159</td>      <th>  BIC:               </th>          <td>   3199.</td>\n",
       "</tr>\n",
       "<tr>\n",
       "  <th>Df Model:</th>              <td>     5</td>      <th>                     </th>              <td> </td>   \n",
       "</tr>\n",
       "<tr>\n",
       "  <th>Covariance Type:</th>      <td>nonrobust</td>    <th>                     </th>              <td> </td>   \n",
       "</tr>\n",
       "</table>\n",
       "<table class=\"simpletable\">\n",
       "<tr>\n",
       "     <td></td>        <th>coef</th>     <th>std err</th>      <th>t</th>      <th>P>|t|</th>  <th>[0.025</th>    <th>0.975]</th>  \n",
       "</tr>\n",
       "<tr>\n",
       "  <th>whlbase</th> <td>  160.5941</td> <td>  106.885</td> <td>    1.502</td> <td> 0.135</td> <td>  -50.504</td> <td>  371.692</td>\n",
       "</tr>\n",
       "<tr>\n",
       "  <th>width</th>   <td> -420.7520</td> <td>  140.505</td> <td>   -2.995</td> <td> 0.003</td> <td> -698.248</td> <td> -143.256</td>\n",
       "</tr>\n",
       "<tr>\n",
       "  <th>curbwgt</th> <td>    2.9292</td> <td>    1.485</td> <td>    1.973</td> <td> 0.050</td> <td>   -0.003</td> <td>    5.862</td>\n",
       "</tr>\n",
       "<tr>\n",
       "  <th>egnsize</th> <td>  105.2663</td> <td>   15.384</td> <td>    6.843</td> <td> 0.000</td> <td>   74.883</td> <td>  135.650</td>\n",
       "</tr>\n",
       "<tr>\n",
       "  <th>hrspwr</th>  <td>   43.3762</td> <td>   16.175</td> <td>    2.682</td> <td> 0.008</td> <td>   11.430</td> <td>   75.322</td>\n",
       "</tr>\n",
       "</table>\n",
       "<table class=\"simpletable\">\n",
       "<tr>\n",
       "  <th>Omnibus:</th>       <td>15.578</td> <th>  Durbin-Watson:     </th> <td>   1.102</td>\n",
       "</tr>\n",
       "<tr>\n",
       "  <th>Prob(Omnibus):</th> <td> 0.000</td> <th>  Jarque-Bera (JB):  </th> <td>  46.471</td>\n",
       "</tr>\n",
       "<tr>\n",
       "  <th>Skew:</th>          <td> 0.204</td> <th>  Prob(JB):          </th> <td>8.11e-11</td>\n",
       "</tr>\n",
       "<tr>\n",
       "  <th>Kurtosis:</th>      <td> 5.576</td> <th>  Cond. No.          </th> <td>1.50e+03</td>\n",
       "</tr>\n",
       "</table><br/><br/>Notes:<br/>[1] R² is computed without centering (uncentered) since the model does not contain a constant.<br/>[2] Standard Errors assume that the covariance matrix of the errors is correctly specified.<br/>[3] The condition number is large, 1.5e+03. This might indicate that there are<br/>strong multicollinearity or other numerical problems."
      ],
      "text/plain": [
       "<class 'statsmodels.iolib.summary.Summary'>\n",
       "\"\"\"\n",
       "                                 OLS Regression Results                                \n",
       "=======================================================================================\n",
       "Dep. Variable:                  price   R-squared (uncentered):                   0.940\n",
       "Model:                            OLS   Adj. R-squared (uncentered):              0.938\n",
       "Method:                 Least Squares   F-statistic:                              500.5\n",
       "Date:                Sun, 03 Apr 2022   Prob (F-statistic):                    2.57e-95\n",
       "Time:                        17:49:43   Log-Likelihood:                         -1586.8\n",
       "No. Observations:                 164   AIC:                                      3184.\n",
       "Df Residuals:                     159   BIC:                                      3199.\n",
       "Df Model:                           5                                                  \n",
       "Covariance Type:            nonrobust                                                  \n",
       "==============================================================================\n",
       "                 coef    std err          t      P>|t|      [0.025      0.975]\n",
       "------------------------------------------------------------------------------\n",
       "whlbase      160.5941    106.885      1.502      0.135     -50.504     371.692\n",
       "width       -420.7520    140.505     -2.995      0.003    -698.248    -143.256\n",
       "curbwgt        2.9292      1.485      1.973      0.050      -0.003       5.862\n",
       "egnsize      105.2663     15.384      6.843      0.000      74.883     135.650\n",
       "hrspwr        43.3762     16.175      2.682      0.008      11.430      75.322\n",
       "==============================================================================\n",
       "Omnibus:                       15.578   Durbin-Watson:                   1.102\n",
       "Prob(Omnibus):                  0.000   Jarque-Bera (JB):               46.471\n",
       "Skew:                           0.204   Prob(JB):                     8.11e-11\n",
       "Kurtosis:                       5.576   Cond. No.                     1.50e+03\n",
       "==============================================================================\n",
       "\n",
       "Notes:\n",
       "[1] R² is computed without centering (uncentered) since the model does not contain a constant.\n",
       "[2] Standard Errors assume that the covariance matrix of the errors is correctly specified.\n",
       "[3] The condition number is large, 1.5e+03. This might indicate that there are\n",
       "strong multicollinearity or other numerical problems.\n",
       "\"\"\""
      ]
     },
     "execution_count": 279,
     "metadata": {},
     "output_type": "execute_result"
    }
   ],
   "source": [
    "model.summary()"
   ]
  },
  {
   "cell_type": "code",
   "execution_count": 280,
   "id": "68637d14",
   "metadata": {},
   "outputs": [
    {
     "name": "stdout",
     "output_type": "stream",
     "text": [
      "164     8056.453865\n",
      "165    10056.937364\n",
      "166    10159.460100\n",
      "167    16041.876323\n",
      "168    16030.159439\n",
      "169    16074.097755\n",
      "170    16449.038046\n",
      "171    16551.560782\n",
      "172    17316.087470\n",
      "173    12111.301208\n",
      "174    10475.057034\n",
      "175    12369.072659\n",
      "176    12369.072659\n",
      "177    12497.958384\n",
      "178    21741.699202\n",
      "179    21858.868043\n",
      "180    22740.700372\n",
      "181    21746.621348\n",
      "182     7155.916726\n",
      "183     9698.208450\n",
      "184     7164.704389\n",
      "185     9706.996113\n",
      "186     9891.537038\n",
      "187     8019.830980\n",
      "188    10615.410784\n",
      "189    10144.218596\n",
      "190    10131.704705\n",
      "191    14857.601925\n",
      "192     8690.217350\n",
      "193    10774.070241\n",
      "194    16792.764386\n",
      "195    17150.129351\n",
      "196    16860.136469\n",
      "197    17173.563119\n",
      "198    18106.479298\n",
      "199    18434.552053\n",
      "200    16965.506503\n",
      "201    19287.022019\n",
      "202    21377.307081\n",
      "203    17815.805736\n",
      "204    17287.720816\n",
      "dtype: float64\n"
     ]
    }
   ],
   "source": [
    "predicted_y=model.predict(test_x)\n",
    "print(predicted_y)"
   ]
  },
  {
   "cell_type": "code",
   "execution_count": null,
   "id": "cab91512",
   "metadata": {},
   "outputs": [],
   "source": []
  }
 ],
 "metadata": {
  "kernelspec": {
   "display_name": "Python 3 (ipykernel)",
   "language": "python",
   "name": "python3"
  },
  "language_info": {
   "codemirror_mode": {
    "name": "ipython",
    "version": 3
   },
   "file_extension": ".py",
   "mimetype": "text/x-python",
   "name": "python",
   "nbconvert_exporter": "python",
   "pygments_lexer": "ipython3",
   "version": "3.9.7"
  }
 },
 "nbformat": 4,
 "nbformat_minor": 5
}
